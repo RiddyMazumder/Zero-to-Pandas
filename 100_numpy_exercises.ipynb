{
  "cells": [
    {
      "cell_type": "markdown",
      "metadata": {
        "id": "view-in-github",
        "colab_type": "text"
      },
      "source": [
        "<a href=\"https://colab.research.google.com/github/RiddyMazumder/Zero-to-Pandas/blob/main/100_numpy_exercises.ipynb\" target=\"_parent\"><img src=\"https://colab.research.google.com/assets/colab-badge.svg\" alt=\"Open In Colab\"/></a>"
      ]
    },
    {
      "cell_type": "markdown",
      "metadata": {
        "id": "Kel11RGXHuBb"
      },
      "source": [
        "# 100 numpy exercises (Optional)\n",
        "\n",
        "Source: https://github.com/rougier/numpy-100\n"
      ]
    },
    {
      "cell_type": "markdown",
      "metadata": {
        "id": "NxSCG0oEHuBc"
      },
      "source": [
        "#### How to run this notebook\n",
        "\n",
        "The recommended way to run this notebook is to click the \"Run\" button at the top of this page, and select \"Run on Binder\". This will run the notebook on mybinder.org, a free online service for running Jupyter notebooks.\n",
        "\n",
        "#### How to get help\n",
        "\n",
        "If you are stuck, you can ask for help on the community forum: https://jovian.ml/forum/t/100-numpy-exercises-hints-discussions-help/10561 . You can get help with errors, ask for hints, and share your solutions with others.\n",
        "\n",
        "If you're new to Numpy, check out this notebook for a quick tutorial: https://jovian.ml/aakashns/python-numerical-computing-with-numpy\n",
        "\n",
        "\n",
        "#### Saving your work\n",
        "\n",
        "Remember to save a snapshot of your work from time to time using to your Jovian.ml account."
      ]
    },
    {
      "cell_type": "code",
      "execution_count": 98,
      "metadata": {
        "colab": {
          "base_uri": "https://localhost:8080/"
        },
        "id": "AMaBem6oHuBc",
        "outputId": "53b54c81-4bd2-4c38-b06a-9b3e8efa4590"
      },
      "outputs": [
        {
          "output_type": "stream",
          "name": "stdout",
          "text": [
            "  Preparing metadata (setup.py) ... \u001b[?25l\u001b[?25hdone\n",
            "\u001b[?25l   \u001b[90m━━━━━━━━━━━━━━━━━━━━━━━━━━━━━━━━━━━━━━━━\u001b[0m \u001b[32m0.0/68.6 kB\u001b[0m \u001b[31m?\u001b[0m eta \u001b[36m-:--:--\u001b[0m\r\u001b[2K   \u001b[90m━━━━━━━━━━━━━━━━━━━━━━━━━━━━━━━━━━━━━━━━\u001b[0m \u001b[32m68.6/68.6 kB\u001b[0m \u001b[31m1.8 MB/s\u001b[0m eta \u001b[36m0:00:00\u001b[0m\n",
            "\u001b[?25h  Building wheel for uuid (setup.py) ... \u001b[?25l\u001b[?25hdone\n"
          ]
        }
      ],
      "source": [
        "!pip install jovian --upgrade --quiet"
      ]
    },
    {
      "cell_type": "code",
      "execution_count": 99,
      "metadata": {
        "id": "Ugi_TMScHuBc"
      },
      "outputs": [],
      "source": [
        "import jovian"
      ]
    },
    {
      "cell_type": "code",
      "execution_count": 100,
      "metadata": {
        "colab": {
          "base_uri": "https://localhost:8080/"
        },
        "id": "yxKDtA7HHuBd",
        "outputId": "cfb48d4c-013c-4ee3-dcc3-b5d02eb051aa"
      },
      "outputs": [
        {
          "output_type": "stream",
          "name": "stdout",
          "text": [
            "[jovian] Detected Colab notebook...\u001b[0m\n",
            "[jovian] jovian.commit() is no longer required on Google Colab. If you ran this notebook from Jovian, \n",
            "then just save this file in Colab using Ctrl+S/Cmd+S and it will be updated on Jovian. \n",
            "Also, you can also delete this cell, it's no longer necessary.\u001b[0m\n"
          ]
        }
      ],
      "source": [
        "jovian.commit(project='100-numpy-exercises')"
      ]
    },
    {
      "cell_type": "markdown",
      "metadata": {
        "id": "69HC1j5ZHuBd"
      },
      "source": [
        "`jovian.commit` uploads the notebook to your Jovian.ml account, captures the Python environment and creates a shareable link for your notebook as shown above. You can use this link to share your work and let anyone (including you) run your notebooks and reproduce your work. Learn more: https://jovian.ml/docs/\n"
      ]
    },
    {
      "cell_type": "code",
      "execution_count": 101,
      "metadata": {
        "id": "bd2XX_u8HuBd"
      },
      "outputs": [],
      "source": [
        "# Ucomment the next line if you need install numpy\n",
        "# !pip install numpy --upgrade"
      ]
    },
    {
      "cell_type": "markdown",
      "metadata": {
        "id": "23fYRkjoHuBd"
      },
      "source": [
        "#### 1. Import the numpy package under the name `np` (★☆☆)"
      ]
    },
    {
      "cell_type": "code",
      "execution_count": 102,
      "metadata": {
        "id": "Fb8BichLHuBd"
      },
      "outputs": [],
      "source": [
        "import numpy as np"
      ]
    },
    {
      "cell_type": "markdown",
      "metadata": {
        "id": "KW55ZVGGHuBe"
      },
      "source": [
        "#### 2. Print the numpy version and the configuration (★☆☆)"
      ]
    },
    {
      "cell_type": "code",
      "execution_count": 103,
      "metadata": {
        "colab": {
          "base_uri": "https://localhost:8080/"
        },
        "id": "1AwlnK7nHuBe",
        "outputId": "2f8d5a3f-a56c-4a55-c6f6-d6c4d2587adb"
      },
      "outputs": [
        {
          "output_type": "stream",
          "name": "stdout",
          "text": [
            "numpy_version 1.26.4\n",
            "Build Dependencies:\n",
            "  blas:\n",
            "    detection method: pkgconfig\n",
            "    found: true\n",
            "    include directory: /usr/local/include\n",
            "    lib directory: /usr/local/lib\n",
            "    name: openblas64\n",
            "    openblas configuration: USE_64BITINT=1 DYNAMIC_ARCH=1 DYNAMIC_OLDER= NO_CBLAS=\n",
            "      NO_LAPACK= NO_LAPACKE= NO_AFFINITY=1 USE_OPENMP= HASWELL MAX_THREADS=2\n",
            "    pc file directory: /usr/local/lib/pkgconfig\n",
            "    version: 0.3.23.dev\n",
            "  lapack:\n",
            "    detection method: internal\n",
            "    found: true\n",
            "    include directory: unknown\n",
            "    lib directory: unknown\n",
            "    name: dep139863411681952\n",
            "    openblas configuration: unknown\n",
            "    pc file directory: unknown\n",
            "    version: 1.26.4\n",
            "Compilers:\n",
            "  c:\n",
            "    args: -fno-strict-aliasing\n",
            "    commands: cc\n",
            "    linker: ld.bfd\n",
            "    linker args: -Wl,--strip-debug, -fno-strict-aliasing\n",
            "    name: gcc\n",
            "    version: 10.2.1\n",
            "  c++:\n",
            "    commands: c++\n",
            "    linker: ld.bfd\n",
            "    linker args: -Wl,--strip-debug\n",
            "    name: gcc\n",
            "    version: 10.2.1\n",
            "  cython:\n",
            "    commands: cython\n",
            "    linker: cython\n",
            "    name: cython\n",
            "    version: 3.0.8\n",
            "Machine Information:\n",
            "  build:\n",
            "    cpu: x86_64\n",
            "    endian: little\n",
            "    family: x86_64\n",
            "    system: linux\n",
            "  host:\n",
            "    cpu: x86_64\n",
            "    endian: little\n",
            "    family: x86_64\n",
            "    system: linux\n",
            "Python Information:\n",
            "  path: /opt/python/cp310-cp310/bin/python\n",
            "  version: '3.10'\n",
            "SIMD Extensions:\n",
            "  baseline:\n",
            "  - SSE\n",
            "  - SSE2\n",
            "  - SSE3\n",
            "  found:\n",
            "  - SSSE3\n",
            "  - SSE41\n",
            "  - POPCNT\n",
            "  - SSE42\n",
            "  - AVX\n",
            "  - F16C\n",
            "  - FMA3\n",
            "  - AVX2\n",
            "  not found:\n",
            "  - AVX512F\n",
            "  - AVX512CD\n",
            "  - AVX512_KNL\n",
            "  - AVX512_KNM\n",
            "  - AVX512_SKX\n",
            "  - AVX512_CLX\n",
            "  - AVX512_CNL\n",
            "  - AVX512_ICL\n",
            "\n"
          ]
        }
      ],
      "source": [
        "print(\"numpy_version\",np.__version__)\n",
        "np.show_config()"
      ]
    },
    {
      "cell_type": "markdown",
      "metadata": {
        "id": "xLCZbYA6HuBe"
      },
      "source": [
        "#### 3. Create a null vector of size 10 (★☆☆)"
      ]
    },
    {
      "cell_type": "code",
      "execution_count": null,
      "metadata": {
        "colab": {
          "base_uri": "https://localhost:8080/"
        },
        "id": "vjt6ASLcHuBe",
        "outputId": "01cdc8e0-fc3c-4a2a-f75b-061d3cc32104"
      },
      "outputs": [
        {
          "output_type": "execute_result",
          "data": {
            "text/plain": [
              "array([0., 0., 0., 0., 0., 0., 0., 0., 0., 0., 0.])"
            ]
          },
          "metadata": {},
          "execution_count": 9
        }
      ],
      "source": [
        "np.zeros(11)"
      ]
    },
    {
      "cell_type": "markdown",
      "metadata": {
        "id": "aKKIhEwJHuBe"
      },
      "source": [
        "#### 4. How to find the memory size of any array (★☆☆)"
      ]
    },
    {
      "cell_type": "code",
      "execution_count": null,
      "metadata": {
        "colab": {
          "base_uri": "https://localhost:8080/"
        },
        "id": "8POFeoAnHuBe",
        "outputId": "2f9dea7b-2a42-42a9-874c-66c5b85e4212"
      },
      "outputs": [
        {
          "output_type": "execute_result",
          "data": {
            "text/plain": [
              "88"
            ]
          },
          "metadata": {},
          "execution_count": 14
        }
      ],
      "source": [
        "np.zeros(11).nbytes"
      ]
    },
    {
      "cell_type": "markdown",
      "metadata": {
        "id": "9rm27YDYHuBe"
      },
      "source": [
        "#### 5. How to get the documentation of the numpy add function from the command line? (★☆☆)"
      ]
    },
    {
      "cell_type": "code",
      "execution_count": null,
      "metadata": {
        "colab": {
          "base_uri": "https://localhost:8080/"
        },
        "id": "14lojWr1HuBe",
        "outputId": "c23360e1-0ebe-4cb2-a16f-3fc14744cc5a"
      },
      "outputs": [
        {
          "output_type": "stream",
          "name": "stdout",
          "text": [
            "Help on ufunc:\n",
            "\n",
            "add = <ufunc 'add'>\n",
            "    add(x1, x2, /, out=None, *, where=True, casting='same_kind', order='K', dtype=None, subok=True[, signature, extobj])\n",
            "    \n",
            "    Add arguments element-wise.\n",
            "    \n",
            "    Parameters\n",
            "    ----------\n",
            "    x1, x2 : array_like\n",
            "        The arrays to be added.\n",
            "        If ``x1.shape != x2.shape``, they must be broadcastable to a common\n",
            "        shape (which becomes the shape of the output).\n",
            "    out : ndarray, None, or tuple of ndarray and None, optional\n",
            "        A location into which the result is stored. If provided, it must have\n",
            "        a shape that the inputs broadcast to. If not provided or None,\n",
            "        a freshly-allocated array is returned. A tuple (possible only as a\n",
            "        keyword argument) must have length equal to the number of outputs.\n",
            "    where : array_like, optional\n",
            "        This condition is broadcast over the input. At locations where the\n",
            "        condition is True, the `out` array will be set to the ufunc result.\n",
            "        Elsewhere, the `out` array will retain its original value.\n",
            "        Note that if an uninitialized `out` array is created via the default\n",
            "        ``out=None``, locations within it where the condition is False will\n",
            "        remain uninitialized.\n",
            "    **kwargs\n",
            "        For other keyword-only arguments, see the\n",
            "        :ref:`ufunc docs <ufuncs.kwargs>`.\n",
            "    \n",
            "    Returns\n",
            "    -------\n",
            "    add : ndarray or scalar\n",
            "        The sum of `x1` and `x2`, element-wise.\n",
            "        This is a scalar if both `x1` and `x2` are scalars.\n",
            "    \n",
            "    Notes\n",
            "    -----\n",
            "    Equivalent to `x1` + `x2` in terms of array broadcasting.\n",
            "    \n",
            "    Examples\n",
            "    --------\n",
            "    >>> np.add(1.0, 4.0)\n",
            "    5.0\n",
            "    >>> x1 = np.arange(9.0).reshape((3, 3))\n",
            "    >>> x2 = np.arange(3.0)\n",
            "    >>> np.add(x1, x2)\n",
            "    array([[  0.,   2.,   4.],\n",
            "           [  3.,   5.,   7.],\n",
            "           [  6.,   8.,  10.]])\n",
            "    \n",
            "    The ``+`` operator can be used as a shorthand for ``np.add`` on ndarrays.\n",
            "    \n",
            "    >>> x1 = np.arange(9.0).reshape((3, 3))\n",
            "    >>> x2 = np.arange(3.0)\n",
            "    >>> x1 + x2\n",
            "    array([[ 0.,  2.,  4.],\n",
            "           [ 3.,  5.,  7.],\n",
            "           [ 6.,  8., 10.]])\n",
            "\n"
          ]
        }
      ],
      "source": [
        "help(np.add)"
      ]
    },
    {
      "cell_type": "markdown",
      "metadata": {
        "id": "FjP-8GjmHuBe"
      },
      "source": [
        "#### 6. Create a null vector of size 10 but the fifth value which is 1 (★☆☆)"
      ]
    },
    {
      "cell_type": "code",
      "execution_count": null,
      "metadata": {
        "colab": {
          "base_uri": "https://localhost:8080/"
        },
        "id": "25-v5n6_HuBe",
        "outputId": "b884dfce-647c-4e68-852a-2be16c6226f3"
      },
      "outputs": [
        {
          "output_type": "stream",
          "name": "stdout",
          "text": [
            "[0. 0. 0. 0. 1. 0. 0. 0. 0. 0.]\n"
          ]
        }
      ],
      "source": [
        " vector=np.zeros(10)\n",
        " vector[4]=1\n",
        " print(vector)"
      ]
    },
    {
      "cell_type": "markdown",
      "metadata": {
        "id": "VqRTy1_KHuBe"
      },
      "source": [
        "#### 7. Create a vector with values ranging from 10 to 49 (★☆☆)"
      ]
    },
    {
      "cell_type": "code",
      "execution_count": null,
      "metadata": {
        "colab": {
          "base_uri": "https://localhost:8080/"
        },
        "id": "oCfGAAamHuBf",
        "outputId": "08fb2ebe-52e0-4459-e943-c5704cd2c383"
      },
      "outputs": [
        {
          "output_type": "stream",
          "name": "stdout",
          "text": [
            "[10 11 12 13 14 15 16 17 18 19 20 21 22 23 24 25 26 27 28 29 30 31 32 33\n",
            " 34 35 36 37 38 39 40 41 42 43 44 45 46 47 48]\n"
          ]
        }
      ],
      "source": [
        "vector=np.arange(10,49)\n",
        "print(vector)"
      ]
    },
    {
      "cell_type": "markdown",
      "metadata": {
        "id": "yfPSK9rZHuBf"
      },
      "source": [
        "#### 8. Reverse a vector (first element becomes last) (★☆☆)"
      ]
    },
    {
      "cell_type": "code",
      "execution_count": null,
      "metadata": {
        "colab": {
          "base_uri": "https://localhost:8080/"
        },
        "id": "cvGAAPLhHuBf",
        "outputId": "0c2ef483-71f5-4ebf-8259-851ba885be88"
      },
      "outputs": [
        {
          "output_type": "execute_result",
          "data": {
            "text/plain": [
              "array([48, 47, 46, 45, 44, 43, 42, 41, 40, 39, 38, 37, 36, 35, 34, 33, 32,\n",
              "       31, 30, 29, 28, 27, 26, 25, 24, 23, 22, 21, 20, 19, 18, 17, 16, 15,\n",
              "       14, 13, 12, 11, 10])"
            ]
          },
          "metadata": {},
          "execution_count": 36
        }
      ],
      "source": [
        "vector[::-1]"
      ]
    },
    {
      "cell_type": "markdown",
      "metadata": {
        "id": "7oCwDtdzHuBf"
      },
      "source": [
        "#### 9. Create a 3x3 matrix with values ranging from 0 to 8 (★☆☆)"
      ]
    },
    {
      "cell_type": "code",
      "execution_count": null,
      "metadata": {
        "colab": {
          "base_uri": "https://localhost:8080/"
        },
        "id": "80JFw9JiHuBf",
        "outputId": "fab8a145-db02-4495-fbae-f09cc89b36e0"
      },
      "outputs": [
        {
          "output_type": "execute_result",
          "data": {
            "text/plain": [
              "array([[0, 1, 2],\n",
              "       [3, 4, 5],\n",
              "       [6, 7, 8]])"
            ]
          },
          "metadata": {},
          "execution_count": 39
        }
      ],
      "source": [
        "vector=np.arange(0,9).reshape(3,3)\n",
        "vector"
      ]
    },
    {
      "cell_type": "markdown",
      "metadata": {
        "id": "g5fk6g2LHuBf"
      },
      "source": [
        "#### 10. Find indices of non-zero elements from [1,2,0,0,4,0] (★☆☆)"
      ]
    },
    {
      "cell_type": "code",
      "execution_count": null,
      "metadata": {
        "colab": {
          "base_uri": "https://localhost:8080/"
        },
        "id": "2SSRz6ZjHuBf",
        "outputId": "bbcddb57-c4cb-4ed9-f09d-a5f08b47ecd4"
      },
      "outputs": [
        {
          "output_type": "execute_result",
          "data": {
            "text/plain": [
              "(array([0, 1, 4]),)"
            ]
          },
          "metadata": {},
          "execution_count": 45
        }
      ],
      "source": [
        "array=np.array([1,2,0,0,4,0])\n",
        "np.where(array!=0)"
      ]
    },
    {
      "cell_type": "markdown",
      "metadata": {
        "id": "8s_EZP00HuBf"
      },
      "source": [
        "Save your progress by commiting your work to Jovian"
      ]
    },
    {
      "cell_type": "code",
      "execution_count": 104,
      "metadata": {
        "id": "kndfugeNHuBf"
      },
      "outputs": [],
      "source": [
        "import jovian"
      ]
    },
    {
      "cell_type": "code",
      "execution_count": 105,
      "metadata": {
        "colab": {
          "base_uri": "https://localhost:8080/"
        },
        "id": "3UxzUgHMHuBf",
        "outputId": "ccee31bc-fde7-4e06-8cb6-a9f782f22ffd"
      },
      "outputs": [
        {
          "output_type": "stream",
          "name": "stdout",
          "text": [
            "[jovian] Detected Colab notebook...\u001b[0m\n",
            "[jovian] jovian.commit() is no longer required on Google Colab. If you ran this notebook from Jovian, \n",
            "then just save this file in Colab using Ctrl+S/Cmd+S and it will be updated on Jovian. \n",
            "Also, you can also delete this cell, it's no longer necessary.\u001b[0m\n"
          ]
        }
      ],
      "source": [
        "jovian.commit(project='numpy-100-exercises')"
      ]
    },
    {
      "cell_type": "markdown",
      "metadata": {
        "id": "SP_M-vtAHuBf"
      },
      "source": [
        "#### 11. Create a 3x3 identity matrix (★☆☆)"
      ]
    },
    {
      "cell_type": "code",
      "execution_count": null,
      "metadata": {
        "colab": {
          "base_uri": "https://localhost:8080/"
        },
        "id": "eg2RPB3ZHuBf",
        "outputId": "8407ef4c-395f-4d3d-80fc-ffce5efdacbd"
      },
      "outputs": [
        {
          "output_type": "stream",
          "name": "stdout",
          "text": [
            "[[1. 0. 0.]\n",
            " [0. 1. 0.]\n",
            " [0. 0. 1.]]\n"
          ]
        }
      ],
      "source": [
        "identity_matrix=np.eye(3)\n",
        "print(identity_matrix)"
      ]
    },
    {
      "cell_type": "markdown",
      "metadata": {
        "id": "NbEiHf5fHuBf"
      },
      "source": [
        "#### 12. Create a 3x3x3 array with random values (★☆☆)"
      ]
    },
    {
      "cell_type": "code",
      "execution_count": null,
      "metadata": {
        "colab": {
          "base_uri": "https://localhost:8080/"
        },
        "id": "EaFrvKGeHuBf",
        "outputId": "80d6ca1c-eeb9-4ce9-e222-b288982b33b4"
      },
      "outputs": [
        {
          "output_type": "stream",
          "name": "stdout",
          "text": [
            "[[[0.03858901 0.92973332 0.42105301]\n",
            "  [0.25005244 0.98620363 0.59662509]\n",
            "  [0.86364094 0.64125326 0.77815196]]\n",
            "\n",
            " [[0.73034996 0.3025145  0.6085815 ]\n",
            "  [0.60762076 0.98070293 0.98848443]\n",
            "  [0.14957976 0.37697095 0.42232417]]\n",
            "\n",
            " [[0.9174615  0.04496442 0.80449074]\n",
            "  [0.70659016 0.58274878 0.57818187]\n",
            "  [0.46240593 0.78089473 0.33775972]]]\n"
          ]
        }
      ],
      "source": [
        "random_values=np.random.random((3,3,3))\n",
        "print(random_values)"
      ]
    },
    {
      "cell_type": "markdown",
      "metadata": {
        "id": "3P7NUvFBHuBf"
      },
      "source": [
        "#### 13. Create a 10x10 array with random values and find the minimum and maximum values (★☆☆)"
      ]
    },
    {
      "cell_type": "code",
      "execution_count": null,
      "metadata": {
        "colab": {
          "base_uri": "https://localhost:8080/"
        },
        "id": "Rf8mr0NAHuBf",
        "outputId": "71cf86c2-61f2-4e31-c473-9921d36bcf19"
      },
      "outputs": [
        {
          "output_type": "stream",
          "name": "stdout",
          "text": [
            "0.038589008329600105\n",
            "0.9884844265416455\n"
          ]
        }
      ],
      "source": [
        "mini_values=random_values.min()\n",
        "maximum_values=random_values.max()\n",
        "print(mini_values)\n",
        "print(maximum_values)"
      ]
    },
    {
      "cell_type": "markdown",
      "metadata": {
        "id": "yrymWnmfHuBf"
      },
      "source": [
        "#### 14. Create a random vector of size 30 and find the mean value (★☆☆)"
      ]
    },
    {
      "cell_type": "code",
      "execution_count": null,
      "metadata": {
        "colab": {
          "base_uri": "https://localhost:8080/"
        },
        "id": "JtTi2zXYHuBf",
        "outputId": "315e266a-008e-45e3-84f0-4b63de988cce"
      },
      "outputs": [
        {
          "output_type": "stream",
          "name": "stdout",
          "text": [
            "0.4079007682801609\n"
          ]
        }
      ],
      "source": [
        "random_vector=np.random.random((30))\n",
        "mean_value=random_vector.mean()\n",
        "print(mean_value)"
      ]
    },
    {
      "cell_type": "markdown",
      "metadata": {
        "id": "jRymO5ziHuBf"
      },
      "source": [
        "#### 15. Create a 2d array with 1 on the border and 0 inside (★☆☆)"
      ]
    },
    {
      "cell_type": "code",
      "execution_count": null,
      "metadata": {
        "colab": {
          "base_uri": "https://localhost:8080/"
        },
        "id": "BmS1FgjvHuBi",
        "outputId": "f02dfe5e-b427-402d-8a62-a33a8628e3f7"
      },
      "outputs": [
        {
          "output_type": "stream",
          "name": "stdout",
          "text": [
            "[[1. 1. 1. 1.]\n",
            " [1. 0. 0. 1.]\n",
            " [1. 0. 0. 1.]\n",
            " [1. 1. 1. 1.]]\n"
          ]
        }
      ],
      "source": [
        "array = np.zeros((4, 4))\n",
        "array[0,:]=1\n",
        "array[:,0]=1\n",
        "array[-1,:]=1\n",
        "array[:,-1]=1\n",
        "\n",
        "\n",
        "print(array)"
      ]
    },
    {
      "cell_type": "markdown",
      "metadata": {
        "id": "OXaxCyKUHuBi"
      },
      "source": [
        "#### 16. How to add a border (filled with 0's) around an existing array? (★☆☆)"
      ]
    },
    {
      "cell_type": "code",
      "execution_count": null,
      "metadata": {
        "colab": {
          "base_uri": "https://localhost:8080/"
        },
        "id": "XOWoe0bRHuBi",
        "outputId": "1ff28dd1-3cc5-4eaf-8c2b-4945cb7c44c6"
      },
      "outputs": [
        {
          "output_type": "stream",
          "name": "stdout",
          "text": [
            "[[0.         0.         0.         0.        ]\n",
            " [0.         0.09023819 0.60690646 0.        ]\n",
            " [0.         0.44535322 0.56078812 0.        ]\n",
            " [0.         0.         0.         0.        ]]\n"
          ]
        }
      ],
      "source": [
        "array = np.random.random((4, 4))\n",
        "array[-1,:]=0\n",
        "array[:,-1]=0\n",
        "array[0,:]=0\n",
        "array[:,0]=0\n",
        "\n",
        "\n",
        "\n",
        "print(array)"
      ]
    },
    {
      "cell_type": "markdown",
      "metadata": {
        "id": "GJfazue-HuBj"
      },
      "source": [
        "#### 17. What is the result of the following expression? (★☆☆)\n",
        "```python\n",
        "0 * np.nan\n",
        "np.nan == np.nan\n",
        "np.inf > np.nan\n",
        "np.nan - np.nan\n",
        "np.nan in set([np.nan])\n",
        "0.3 == 3 * 0.1\n",
        "```"
      ]
    },
    {
      "cell_type": "code",
      "execution_count": null,
      "metadata": {
        "colab": {
          "base_uri": "https://localhost:8080/"
        },
        "id": "Kk_vFt40HuBj",
        "outputId": "150ac703-eb65-42fc-d152-98a60fbfbb43"
      },
      "outputs": [
        {
          "output_type": "execute_result",
          "data": {
            "text/plain": [
              "False"
            ]
          },
          "metadata": {},
          "execution_count": 90
        }
      ],
      "source": [
        "0 * np.nan\n",
        "np.nan == np.nan\n",
        "np.inf > np.nan\n",
        "np.nan - np.nan\n",
        "np.nan in set([np.nan])\n",
        "0.3 == 3 * 0.1"
      ]
    },
    {
      "cell_type": "markdown",
      "metadata": {
        "id": "3KjaP4-6HuBj"
      },
      "source": [
        "#### 18. Create a 5x5 matrix with values 1,2,3,4 just below the diagonal (★☆☆)"
      ]
    },
    {
      "cell_type": "code",
      "execution_count": null,
      "metadata": {
        "colab": {
          "base_uri": "https://localhost:8080/"
        },
        "id": "7R4ejeVyHuBj",
        "outputId": "3632f8b4-5841-4fc4-fa3b-4a0f6503215b"
      },
      "outputs": [
        {
          "output_type": "stream",
          "name": "stdout",
          "text": [
            "[[0 0 0 0 0]\n",
            " [1 0 0 0 0]\n",
            " [0 2 0 0 0]\n",
            " [0 0 3 0 0]\n",
            " [0 0 0 4 0]]\n"
          ]
        }
      ],
      "source": [
        "array=np.arange(1,5)\n",
        "now_array=np.diag(array,k=-1)\n",
        "\n",
        "print(now_array)"
      ]
    },
    {
      "cell_type": "markdown",
      "metadata": {
        "id": "e3bXvYw5HuBj"
      },
      "source": [
        "#### 19. Create a 8x8 matrix and fill it with a checkerboard pattern (★☆☆)"
      ]
    },
    {
      "cell_type": "code",
      "execution_count": null,
      "metadata": {
        "colab": {
          "base_uri": "https://localhost:8080/"
        },
        "id": "Kyu1wCJjHuBj",
        "outputId": "ea940376-4cd5-4965-e3c3-2df6cac31819"
      },
      "outputs": [
        {
          "output_type": "stream",
          "name": "stdout",
          "text": [
            "[[0 1 0 1 0 1 0 1]\n",
            " [1 0 1 0 1 0 1 0]\n",
            " [0 1 0 1 0 1 0 1]\n",
            " [1 0 1 0 1 0 1 0]\n",
            " [0 1 0 1 0 1 0 1]\n",
            " [1 0 1 0 1 0 1 0]\n",
            " [0 1 0 1 0 1 0 1]\n",
            " [1 0 1 0 1 0 1 0]]\n"
          ]
        }
      ],
      "source": [
        "checkerboard = np.zeros((8, 8),dtype=int)\n",
        "checkerboard[1::2, ::2] = 1\n",
        "checkerboard[::2, 1::2] = 1\n",
        "print(checkerboard)"
      ]
    },
    {
      "cell_type": "markdown",
      "metadata": {
        "id": "JeUuK-UwHuBj"
      },
      "source": [
        "#### 20. Consider a (6,7,8) shape array, what is the index (x,y,z) of the 100th element?"
      ]
    },
    {
      "cell_type": "code",
      "execution_count": null,
      "metadata": {
        "colab": {
          "base_uri": "https://localhost:8080/"
        },
        "id": "otv8zHxzHuBj",
        "outputId": "91daeb1f-c2a8-480c-f5ef-c95b9ee16a6c"
      },
      "outputs": [
        {
          "output_type": "stream",
          "name": "stdout",
          "text": [
            "(1, 5, 4)\n"
          ]
        }
      ],
      "source": [
        "shape=(6,7,8)\n",
        "index=np.unravel_index(100,shape)\n",
        "print(index)"
      ]
    },
    {
      "cell_type": "markdown",
      "metadata": {
        "id": "eEiFHSfxHuBj"
      },
      "source": [
        "Save your progress by commiting your work to Jovian"
      ]
    },
    {
      "cell_type": "code",
      "execution_count": 106,
      "metadata": {
        "id": "LgJk_TMYHuBj"
      },
      "outputs": [],
      "source": [
        "import jovian"
      ]
    },
    {
      "cell_type": "code",
      "execution_count": 107,
      "metadata": {
        "colab": {
          "base_uri": "https://localhost:8080/"
        },
        "id": "LK8pW04QHuBj",
        "outputId": "cff766e0-8358-491c-f35c-35ea5cf5b049"
      },
      "outputs": [
        {
          "output_type": "stream",
          "name": "stdout",
          "text": [
            "[jovian] Detected Colab notebook...\u001b[0m\n",
            "[jovian] jovian.commit() is no longer required on Google Colab. If you ran this notebook from Jovian, \n",
            "then just save this file in Colab using Ctrl+S/Cmd+S and it will be updated on Jovian. \n",
            "Also, you can also delete this cell, it's no longer necessary.\u001b[0m\n"
          ]
        }
      ],
      "source": [
        "jovian.commit()"
      ]
    },
    {
      "cell_type": "markdown",
      "metadata": {
        "id": "ptq8039cHuBj"
      },
      "source": [
        "#### 21. Create a checkerboard 8x8 matrix using the tile function (★☆☆)"
      ]
    },
    {
      "cell_type": "code",
      "execution_count": null,
      "metadata": {
        "colab": {
          "base_uri": "https://localhost:8080/"
        },
        "id": "9-EG09bsHuBj",
        "outputId": "46fc9eed-d36a-4fb5-d7ba-0aa1f625549b"
      },
      "outputs": [
        {
          "output_type": "stream",
          "name": "stdout",
          "text": [
            "[[0 1 0 1 0 1 0 1]\n",
            " [1 0 1 0 1 0 1 0]\n",
            " [0 1 0 1 0 1 0 1]\n",
            " [1 0 1 0 1 0 1 0]\n",
            " [0 1 0 1 0 1 0 1]\n",
            " [1 0 1 0 1 0 1 0]\n",
            " [0 1 0 1 0 1 0 1]\n",
            " [1 0 1 0 1 0 1 0]]\n"
          ]
        }
      ],
      "source": [
        "array=np.array([[0,1],[1,0]])\n",
        "title=np.tile(array,(4,4))\n",
        "print(title)"
      ]
    },
    {
      "cell_type": "markdown",
      "metadata": {
        "id": "GQb8tK6jHuBj"
      },
      "source": [
        "#### 22. Normalize a 5x5 random matrix (★☆☆)"
      ]
    },
    {
      "cell_type": "code",
      "execution_count": null,
      "metadata": {
        "colab": {
          "base_uri": "https://localhost:8080/"
        },
        "id": "jRpQEvF2HuBj",
        "outputId": "d7ac4be9-40d1-4ea1-af51-2bee2d3006eb"
      },
      "outputs": [
        {
          "output_type": "stream",
          "name": "stdout",
          "text": [
            "Normalized 5x5 Matrix:\n",
            " [[0.27232881 0.81087921 0.24905742 0.47152365 0.        ]\n",
            " [0.3571191  0.43568077 0.39903871 1.         0.53257573]\n",
            " [0.6312217  0.39991775 0.85271979 0.96812316 0.39608751]\n",
            " [0.68226023 0.08764965 0.44506022 0.68275411 0.90981902]\n",
            " [0.90156422 0.73111784 0.11497422 0.68729725 0.8495203 ]]\n"
          ]
        }
      ],
      "source": [
        "random_matrix = np.random.rand(5, 5)\n",
        "min_val = np.min(random_matrix)\n",
        "max_val = np.max(random_matrix)\n",
        "normalized_matrix = (random_matrix - min_val) / (max_val - min_val)\n",
        "print(\"Normalized 5x5 Matrix:\\n\", normalized_matrix)"
      ]
    },
    {
      "cell_type": "markdown",
      "metadata": {
        "id": "uNcz3g_4HuBj"
      },
      "source": [
        "#### 23. Create a custom dtype that describes a color as four unsigned bytes (RGBA) (★☆☆)"
      ]
    },
    {
      "cell_type": "code",
      "execution_count": null,
      "metadata": {
        "colab": {
          "base_uri": "https://localhost:8080/"
        },
        "id": "lJHnviCNHuBj",
        "outputId": "384e1476-a757-43de-feb2-9ccb00791086"
      },
      "outputs": [
        {
          "output_type": "stream",
          "name": "stdout",
          "text": [
            "(100, 80, 90, 50)\n"
          ]
        }
      ],
      "source": [
        "color_dtype = np.dtype([('r', np.uint8), ('g', np.uint8), ('b', np.uint8), ('a', np.uint8)])\n",
        "color=np.array((100,80,90,50),color_dtype)\n",
        "print(color)"
      ]
    },
    {
      "cell_type": "markdown",
      "metadata": {
        "id": "SlH3phz6HuBj"
      },
      "source": [
        "#### 24. Multiply a 5x3 matrix by a 3x2 matrix (real matrix product) (★☆☆)"
      ]
    },
    {
      "cell_type": "code",
      "execution_count": null,
      "metadata": {
        "colab": {
          "base_uri": "https://localhost:8080/"
        },
        "id": "_QC-X8gVHuBk",
        "outputId": "d61b3bc5-e558-48f2-84a7-61e093b3b63b"
      },
      "outputs": [
        {
          "output_type": "stream",
          "name": "stdout",
          "text": [
            "[[1.41894484 1.53483044]\n",
            " [1.03945698 0.93462286]\n",
            " [0.82893056 0.91012962]\n",
            " [1.34379574 1.29815188]\n",
            " [0.91837568 1.08801581]]\n"
          ]
        }
      ],
      "source": [
        "array1=np.random.random((5,3))\n",
        "array2=np.random.random((3,2))\n",
        "result=np.dot(array1,array2)\n",
        "print(result)"
      ]
    },
    {
      "cell_type": "markdown",
      "metadata": {
        "id": "JSYmYNTFHuBk"
      },
      "source": [
        "#### 25. Given a 1D array, negate all elements which are between 3 and 8, in place. (★☆☆)"
      ]
    },
    {
      "cell_type": "code",
      "execution_count": null,
      "metadata": {
        "colab": {
          "base_uri": "https://localhost:8080/"
        },
        "id": "PxuZ4OzgHuBk",
        "outputId": "69dce987-07d4-4423-866b-4d3e714a5f29"
      },
      "outputs": [
        {
          "output_type": "stream",
          "name": "stdout",
          "text": [
            "[ 1  2  3 -4 -5 -6 -7  8]\n"
          ]
        }
      ],
      "source": [
        "array1=np.array([1,2,3,4,5,6,7,8])\n",
        "array1[(array1>3) & (array1<8)]*=-1\n",
        "print(array1)\n"
      ]
    },
    {
      "cell_type": "markdown",
      "metadata": {
        "id": "adgvcv7hHuBk"
      },
      "source": [
        "#### 26. What is the output of the following script? (★☆☆)\n",
        "```python\n",
        "# Author: Jake VanderPlas\n",
        "\n",
        "print(sum(range(5),-1))\n",
        "from numpy import *\n",
        "print(sum(range(5),-1))\n",
        "```"
      ]
    },
    {
      "cell_type": "code",
      "execution_count": null,
      "metadata": {
        "colab": {
          "base_uri": "https://localhost:8080/"
        },
        "id": "fWgdK2K3HuBk",
        "outputId": "a0bb952e-3460-4504-966f-e4e5a104c819"
      },
      "outputs": [
        {
          "output_type": "stream",
          "name": "stdout",
          "text": [
            "9\n",
            "10\n"
          ]
        }
      ],
      "source": [
        "print(sum(range(5),-1))\n",
        "from numpy import *\n",
        "print(sum(range(5),-1))"
      ]
    },
    {
      "cell_type": "markdown",
      "metadata": {
        "id": "TolC7u69HuBk"
      },
      "source": [
        "#### 27. Consider an integer vector Z, which of these expressions are legal? (★☆☆)\n",
        "```python\n",
        "Z**Z\n",
        "2 << Z >> 2\n",
        "Z <- Z\n",
        "1j*Z\n",
        "Z/1/1\n",
        "Z<Z>Z\n",
        "```"
      ]
    },
    {
      "cell_type": "code",
      "execution_count": null,
      "metadata": {
        "colab": {
          "base_uri": "https://localhost:8080/"
        },
        "id": "6ia11ETOHuBk",
        "outputId": "da91fe18-b90a-45bb-d09d-6b7dbf360e3d"
      },
      "outputs": [
        {
          "output_type": "execute_result",
          "data": {
            "text/plain": [
              "array([ 5., 12.,  7.,  3.,  9., 15.,  6.])"
            ]
          },
          "metadata": {},
          "execution_count": 153
        }
      ],
      "source": [
        "Z = np.array([5, 12, 7, 3, 9, 15, 6])\n",
        "Z**Z\n",
        "2 << Z >> 2\n",
        "Z <- Z\n",
        "1j*Z\n",
        "Z/1/1"
      ]
    },
    {
      "cell_type": "markdown",
      "metadata": {
        "id": "qnkAHoC4HuBk"
      },
      "source": [
        "#### 28. What are the result of the following expressions?\n",
        "```python\n",
        "np.array(0) / np.array(0)\n",
        "np.array(0) // np.array(0)\n",
        "np.array([np.nan]).astype(int).astype(float)\n",
        "```"
      ]
    },
    {
      "cell_type": "code",
      "execution_count": null,
      "metadata": {
        "colab": {
          "base_uri": "https://localhost:8080/"
        },
        "id": "g0WsFuJEHuBk",
        "outputId": "94549aad-61e5-4fce-c52e-4e574c1ede0f"
      },
      "outputs": [
        {
          "output_type": "stream",
          "name": "stderr",
          "text": [
            "<ipython-input-154-cd809174da5d>:1: RuntimeWarning: invalid value encountered in divide\n",
            "  np.array(0) / np.array(0)\n",
            "<ipython-input-154-cd809174da5d>:2: RuntimeWarning: divide by zero encountered in floor_divide\n",
            "  np.array(0) // np.array(0)\n",
            "<ipython-input-154-cd809174da5d>:3: RuntimeWarning: invalid value encountered in cast\n",
            "  np.array([np.nan]).astype(int).astype(float)\n"
          ]
        },
        {
          "output_type": "execute_result",
          "data": {
            "text/plain": [
              "array([-9.22337204e+18])"
            ]
          },
          "metadata": {},
          "execution_count": 154
        }
      ],
      "source": [
        "np.array(0) / np.array(0)\n",
        "np.array(0) // np.array(0)\n",
        "np.array([np.nan]).astype(int).astype(float)"
      ]
    },
    {
      "cell_type": "markdown",
      "metadata": {
        "id": "ZMaQMO7VHuBk"
      },
      "source": [
        "#### 29. How to round away from zero a float array ? (★☆☆)"
      ]
    },
    {
      "cell_type": "code",
      "execution_count": null,
      "metadata": {
        "colab": {
          "base_uri": "https://localhost:8080/"
        },
        "id": "UYnafTV6HuBk",
        "outputId": "f2ee812c-64de-4c54-b2e4-1ef611a3ee51"
      },
      "outputs": [
        {
          "output_type": "stream",
          "name": "stdout",
          "text": [
            "[-3. -2.  1.  2.  3.]\n"
          ]
        }
      ],
      "source": [
        "a=np.array([-2.5, -1.3, 0.2, 1.7, 2.9])\n",
        "b=np.where(a<0,np.floor(a),np.ceil(a))\n",
        "print(b)\n"
      ]
    },
    {
      "cell_type": "markdown",
      "metadata": {
        "id": "uGfDSCGeHuBk"
      },
      "source": [
        "#### 30. How to find common values between two arrays? (★☆☆)"
      ]
    },
    {
      "cell_type": "code",
      "execution_count": null,
      "metadata": {
        "colab": {
          "base_uri": "https://localhost:8080/"
        },
        "id": "fK1K6Jo3HuBk",
        "outputId": "3bcfe453-892c-4289-e650-a07f79b33763"
      },
      "outputs": [
        {
          "output_type": "stream",
          "name": "stdout",
          "text": [
            "[4 5] common_values\n"
          ]
        }
      ],
      "source": [
        "array1 = np.array([1, 2, 3, 4, 5])\n",
        "array2 = np.array([4, 5, 6, 7, 8])\n",
        "common_values=np.intersect1d(array1,array2)\n",
        "print(common_values,\"common_values\")\n"
      ]
    },
    {
      "cell_type": "markdown",
      "metadata": {
        "id": "mdgrKoh3HuBk"
      },
      "source": [
        "Save your progress by commiting your work to Jovian"
      ]
    },
    {
      "cell_type": "code",
      "execution_count": 108,
      "metadata": {
        "id": "CZwZcL_nHuBk"
      },
      "outputs": [],
      "source": [
        "import jovian"
      ]
    },
    {
      "cell_type": "code",
      "execution_count": 109,
      "metadata": {
        "colab": {
          "base_uri": "https://localhost:8080/"
        },
        "id": "5lyRYJ2mHuBk",
        "outputId": "596d005e-f380-4df3-eaf1-8fbd90fcf9f5"
      },
      "outputs": [
        {
          "output_type": "stream",
          "name": "stdout",
          "text": [
            "[jovian] Detected Colab notebook...\u001b[0m\n",
            "[jovian] jovian.commit() is no longer required on Google Colab. If you ran this notebook from Jovian, \n",
            "then just save this file in Colab using Ctrl+S/Cmd+S and it will be updated on Jovian. \n",
            "Also, you can also delete this cell, it's no longer necessary.\u001b[0m\n"
          ]
        }
      ],
      "source": [
        "jovian.commit()"
      ]
    },
    {
      "cell_type": "markdown",
      "metadata": {
        "id": "z8s-imY7HuBk"
      },
      "source": [
        "#### 31. How to ignore all numpy warnings (not recommended)? (★☆☆)"
      ]
    },
    {
      "cell_type": "code",
      "execution_count": null,
      "metadata": {
        "colab": {
          "base_uri": "https://localhost:8080/"
        },
        "id": "6-_WLBwdHuBk",
        "outputId": "075cd68d-80af-4f4f-ac9a-0a869dae7215"
      },
      "outputs": [
        {
          "output_type": "stream",
          "name": "stdout",
          "text": [
            "[ 2.71828183  7.3890561  20.08553692]\n"
          ]
        }
      ],
      "source": [
        "import warnings\n",
        "warnings.filterwarnings('ignore')\n",
        "\n",
        "a = np.array([1, 2, 3])\n",
        "print(np.exp(a))"
      ]
    },
    {
      "cell_type": "markdown",
      "metadata": {
        "id": "ahIbD5lLHuBl"
      },
      "source": [
        "#### 32. Is the following expressions true? (★☆☆)\n",
        "```python\n",
        "np.sqrt(-1) == np.emath.sqrt(-1)\n",
        "```"
      ]
    },
    {
      "cell_type": "code",
      "execution_count": null,
      "metadata": {
        "colab": {
          "base_uri": "https://localhost:8080/"
        },
        "id": "0AlDmVH2HuBl",
        "outputId": "e89cb886-3320-4af4-8d39-1d5c0513dd7a"
      },
      "outputs": [
        {
          "output_type": "execute_result",
          "data": {
            "text/plain": [
              "False"
            ]
          },
          "metadata": {},
          "execution_count": 168
        }
      ],
      "source": [
        "np.sqrt(-1) == np.emath.sqrt(-1)"
      ]
    },
    {
      "cell_type": "markdown",
      "metadata": {
        "id": "vJladWchHuBl"
      },
      "source": [
        "#### 33. How to get the dates of yesterday, today and tomorrow? (★☆☆)"
      ]
    },
    {
      "cell_type": "code",
      "source": [
        "today=np.datetime64('today','D')\n",
        "yesterday=np.datetime64('today','D')-np.timedelta64(1,'D')\n",
        "tomorrow=np.datetime64('today','D')+np.timedelta64(1,'D')\n",
        "print(today)\n",
        "print(yesterday)\n",
        "print(tomorrow)"
      ],
      "metadata": {
        "colab": {
          "base_uri": "https://localhost:8080/"
        },
        "id": "D9NSJyxoK3W1",
        "outputId": "242a7f71-dcba-43f3-d57b-f52b8d787300"
      },
      "execution_count": null,
      "outputs": [
        {
          "output_type": "stream",
          "name": "stdout",
          "text": [
            "2024-11-10\n",
            "2024-11-09\n",
            "2024-11-11\n"
          ]
        }
      ]
    },
    {
      "cell_type": "markdown",
      "metadata": {
        "id": "9fIgkfxGHuBl"
      },
      "source": [
        "#### 34. How to get all the dates corresponding to the month of July 2016? (★★☆)"
      ]
    },
    {
      "cell_type": "code",
      "execution_count": null,
      "metadata": {
        "colab": {
          "base_uri": "https://localhost:8080/"
        },
        "id": "OUbTBCIyHuBl",
        "outputId": "4b233a22-fdac-4edf-948e-5355c278e934"
      },
      "outputs": [
        {
          "output_type": "stream",
          "name": "stdout",
          "text": [
            "['2016-07-01' '2016-07-02' '2016-07-03' '2016-07-04' '2016-07-05'\n",
            " '2016-07-06' '2016-07-07' '2016-07-08' '2016-07-09' '2016-07-10'\n",
            " '2016-07-11' '2016-07-12' '2016-07-13' '2016-07-14' '2016-07-15'\n",
            " '2016-07-16' '2016-07-17' '2016-07-18' '2016-07-19' '2016-07-20'\n",
            " '2016-07-21' '2016-07-22' '2016-07-23' '2016-07-24' '2016-07-25'\n",
            " '2016-07-26' '2016-07-27' '2016-07-28' '2016-07-29' '2016-07-30']\n"
          ]
        }
      ],
      "source": [
        "start_date=np.datetime64('2016-07-01')\n",
        "stop_date=np.datetime64('2016-07-31')\n",
        "date=np.arange(start_date,stop_date,+np.timedelta64(1,'D'))\n",
        "print(date)\n",
        "\n",
        "\n"
      ]
    },
    {
      "cell_type": "markdown",
      "metadata": {
        "id": "eRj2ziZ0HuBl"
      },
      "source": [
        "#### 35. How to compute ((A+B)*(-A/2)) in place (without copy)? (★★☆)"
      ]
    },
    {
      "cell_type": "code",
      "execution_count": null,
      "metadata": {
        "colab": {
          "base_uri": "https://localhost:8080/"
        },
        "id": "e2HbXdXEHuBl",
        "outputId": "1ddf7573-3bb9-4a25-db91-ee91f82f6c30"
      },
      "outputs": [
        {
          "output_type": "stream",
          "name": "stdout",
          "text": [
            "[ -2.5  -7.  -13.5]\n"
          ]
        }
      ],
      "source": [
        "A=np.array([1,2,3])\n",
        "B=np.array([4,5,6])\n",
        "M=A+B\n",
        "N=M*(-A/2)\n",
        "print(N)"
      ]
    },
    {
      "cell_type": "markdown",
      "metadata": {
        "id": "RDZ60w4mHuBl"
      },
      "source": [
        "#### 36. Extract the integer part of a random array of positive numbers using 4 different methods (★★☆)"
      ]
    },
    {
      "cell_type": "code",
      "execution_count": 17,
      "metadata": {
        "id": "VwxqNQm8HuBl",
        "colab": {
          "base_uri": "https://localhost:8080/"
        },
        "outputId": "2d6af131-670b-4a83-de79-5273f0159e67"
      },
      "outputs": [
        {
          "output_type": "stream",
          "name": "stdout",
          "text": [
            "[3. 9. 2. 8. 6. 8. 7. 6. 3. 2.]\n",
            "[3. 9. 2. 8. 6. 8. 7. 6. 3. 2.]\n",
            "[3. 9. 2. 8. 6. 8. 7. 6. 3. 2.]\n",
            "[3 9 2 8 6 8 7 6 3 2]\n",
            "[3. 9. 2. 8. 6. 8. 7. 6. 3. 2.]\n"
          ]
        }
      ],
      "source": [
        "Z = np.random.uniform(0,10,10)\n",
        "\n",
        "print(Z - Z%1)\n",
        "print(Z // 1)\n",
        "print(np.floor(Z))\n",
        "print(Z.astype(int))\n",
        "print(np.trunc(Z))"
      ]
    },
    {
      "cell_type": "markdown",
      "metadata": {
        "id": "N2ABGWTKHuBl"
      },
      "source": [
        "#### 37. Create a 5x5 matrix with row values ranging from 0 to 4 (★★☆)"
      ]
    },
    {
      "cell_type": "code",
      "source": [
        "Z = np.tile(np.arange(0, 5), (5,1))\n",
        "print(Z)"
      ],
      "metadata": {
        "colab": {
          "base_uri": "https://localhost:8080/"
        },
        "id": "CCN_S_TX_EYZ",
        "outputId": "5ef250dd-bc27-4c70-e69b-6de98d45b7dc"
      },
      "execution_count": 22,
      "outputs": [
        {
          "output_type": "stream",
          "name": "stdout",
          "text": [
            "[[0 1 2 3 4]\n",
            " [0 1 2 3 4]\n",
            " [0 1 2 3 4]\n",
            " [0 1 2 3 4]\n",
            " [0 1 2 3 4]]\n"
          ]
        }
      ]
    },
    {
      "cell_type": "code",
      "execution_count": 21,
      "metadata": {
        "id": "tgYy2w0qHuBl",
        "colab": {
          "base_uri": "https://localhost:8080/"
        },
        "outputId": "2b28f2bf-8622-4a06-8f8f-b00f872d6904"
      },
      "outputs": [
        {
          "output_type": "stream",
          "name": "stdout",
          "text": [
            "[[0. 1. 2. 3. 4.]\n",
            " [0. 1. 2. 3. 4.]\n",
            " [0. 1. 2. 3. 4.]\n",
            " [0. 1. 2. 3. 4.]\n",
            " [0. 1. 2. 3. 4.]]\n"
          ]
        }
      ],
      "source": [
        "Z = np.zeros((5,5))\n",
        "Z += np.arange(5)\n",
        "print(Z)"
      ]
    },
    {
      "cell_type": "markdown",
      "metadata": {
        "id": "OwF98KtkHuBl"
      },
      "source": [
        "#### 38. Consider a generator function that generates 10 integers and use it to build an array (★☆☆)"
      ]
    },
    {
      "cell_type": "code",
      "source": [
        "A=np.random.random(10)\n",
        "print(A)"
      ],
      "metadata": {
        "colab": {
          "base_uri": "https://localhost:8080/"
        },
        "id": "6RaJ-dPr_TUB",
        "outputId": "4c98a4a7-f5c9-414c-e366-0a60cf82aaa4"
      },
      "execution_count": 28,
      "outputs": [
        {
          "output_type": "stream",
          "name": "stdout",
          "text": [
            "[0.45401709 0.1087313  0.50600803 0.05153488 0.49808412 0.69210133\n",
            " 0.91169064 0.68135633 0.26054126 0.49948088]\n"
          ]
        }
      ]
    },
    {
      "cell_type": "code",
      "execution_count": 27,
      "metadata": {
        "id": "x8blgwAzHuBl",
        "colab": {
          "base_uri": "https://localhost:8080/"
        },
        "outputId": "120c46b1-5e67-4c65-dbf8-e4fab710d20c"
      },
      "outputs": [
        {
          "output_type": "stream",
          "name": "stdout",
          "text": [
            "[0. 1. 2. 3. 4. 5. 6. 7. 8. 9.]\n"
          ]
        }
      ],
      "source": [
        "def generate():\n",
        "    for x in range(10):\n",
        "        yield x\n",
        "Z = np.fromiter(generate(),dtype=float,count=-1)\n",
        "print(Z)"
      ]
    },
    {
      "cell_type": "markdown",
      "metadata": {
        "id": "XAv8gm9CHuBl"
      },
      "source": [
        "#### 39. Create a vector of size 10 with values ranging from 0 to 1, both excluded (★★☆)"
      ]
    },
    {
      "cell_type": "code",
      "execution_count": 29,
      "metadata": {
        "id": "Sdg8sWR6HuBl",
        "colab": {
          "base_uri": "https://localhost:8080/"
        },
        "outputId": "ffc80598-8593-438d-e015-0c9b365e3909"
      },
      "outputs": [
        {
          "output_type": "stream",
          "name": "stdout",
          "text": [
            "[0.09090909 0.18181818 0.27272727 0.36363636 0.45454545 0.54545455\n",
            " 0.63636364 0.72727273 0.81818182 0.90909091]\n"
          ]
        }
      ],
      "source": [
        "A = np.linspace(0,1,11,endpoint=False)[1:]\n",
        "print(A)"
      ]
    },
    {
      "cell_type": "markdown",
      "metadata": {
        "id": "axSwiXSJHuBl"
      },
      "source": [
        "#### 40. Create a random vector of size 10 and sort it (★★☆)"
      ]
    },
    {
      "cell_type": "code",
      "execution_count": 32,
      "metadata": {
        "id": "gAVsZjucHuBm",
        "colab": {
          "base_uri": "https://localhost:8080/"
        },
        "outputId": "aea4a820-87d8-40bc-e359-639caf2f3035"
      },
      "outputs": [
        {
          "output_type": "stream",
          "name": "stdout",
          "text": [
            "[0.08058297 0.14299636 0.18865699 0.21937546 0.22427875 0.25071753\n",
            " 0.29544037 0.43773154 0.51311022 0.71306201]\n"
          ]
        }
      ],
      "source": [
        "Z = np.random.random(10)\n",
        "Z.sort()\n",
        "print(Z)"
      ]
    },
    {
      "cell_type": "markdown",
      "metadata": {
        "id": "Fx76fXTLHuBm"
      },
      "source": [
        "Save your progress by commiting your work to Jovian"
      ]
    },
    {
      "cell_type": "code",
      "execution_count": 110,
      "metadata": {
        "id": "9HuXnh5eHuBm"
      },
      "outputs": [],
      "source": [
        "import jovian"
      ]
    },
    {
      "cell_type": "code",
      "execution_count": 111,
      "metadata": {
        "id": "oTxl2WQ3HuBm",
        "outputId": "398bffa0-f057-46ad-f199-4c3e7a6e4de2",
        "colab": {
          "base_uri": "https://localhost:8080/"
        }
      },
      "outputs": [
        {
          "output_type": "stream",
          "name": "stdout",
          "text": [
            "[jovian] Detected Colab notebook...\u001b[0m\n",
            "[jovian] jovian.commit() is no longer required on Google Colab. If you ran this notebook from Jovian, \n",
            "then just save this file in Colab using Ctrl+S/Cmd+S and it will be updated on Jovian. \n",
            "Also, you can also delete this cell, it's no longer necessary.\u001b[0m\n"
          ]
        }
      ],
      "source": [
        "jovian.commit()"
      ]
    },
    {
      "cell_type": "markdown",
      "metadata": {
        "id": "9ACYCMvLHuBn"
      },
      "source": [
        "#### 41. How to sum a small array faster than np.sum? (★★☆)"
      ]
    },
    {
      "cell_type": "code",
      "source": [
        "A = np.arange(10)\n",
        "A.sum()"
      ],
      "metadata": {
        "colab": {
          "base_uri": "https://localhost:8080/"
        },
        "id": "z9KaDCnP_9SG",
        "outputId": "5b9d0c12-5bd3-42cf-f3a3-7cc1cd0daa55"
      },
      "execution_count": 36,
      "outputs": [
        {
          "output_type": "execute_result",
          "data": {
            "text/plain": [
              "45"
            ]
          },
          "metadata": {},
          "execution_count": 36
        }
      ]
    },
    {
      "cell_type": "code",
      "execution_count": 35,
      "metadata": {
        "id": "CKC1X8NMHuBn",
        "colab": {
          "base_uri": "https://localhost:8080/"
        },
        "outputId": "3df00397-fd3a-4442-e9f7-f25d53c7e93d"
      },
      "outputs": [
        {
          "output_type": "execute_result",
          "data": {
            "text/plain": [
              "45"
            ]
          },
          "metadata": {},
          "execution_count": 35
        }
      ],
      "source": [
        "A = np.arange(10)\n",
        "np.add.reduce(A)"
      ]
    },
    {
      "cell_type": "markdown",
      "metadata": {
        "id": "j3edUkBEHuBn"
      },
      "source": [
        "#### 42. Consider two random array A and B, check if they are equal (★★☆)"
      ]
    },
    {
      "cell_type": "code",
      "source": [
        "A = np.random.randint(0,2,5)\n",
        "B = np.random.randint(0,2,5)\n",
        "if np.all(A+=B):\n",
        "    print(\"equal\")\n",
        "else:\n",
        "    print(\"not equal\")"
      ],
      "metadata": {
        "colab": {
          "base_uri": "https://localhost:8080/",
          "height": 110
        },
        "id": "ZC9y5SX2AJGh",
        "outputId": "a6306a5c-a5f1-4013-ecca-707fbf6f959f"
      },
      "execution_count": 42,
      "outputs": [
        {
          "output_type": "error",
          "ename": "SyntaxError",
          "evalue": "invalid syntax (<ipython-input-42-3fa46601ca40>, line 3)",
          "traceback": [
            "\u001b[0;36m  File \u001b[0;32m\"<ipython-input-42-3fa46601ca40>\"\u001b[0;36m, line \u001b[0;32m3\u001b[0m\n\u001b[0;31m    if np.all(A+=B):\u001b[0m\n\u001b[0m               ^\u001b[0m\n\u001b[0;31mSyntaxError\u001b[0m\u001b[0;31m:\u001b[0m invalid syntax\n"
          ]
        }
      ]
    },
    {
      "cell_type": "code",
      "execution_count": 37,
      "metadata": {
        "id": "zMU4cfBfHuBn",
        "colab": {
          "base_uri": "https://localhost:8080/"
        },
        "outputId": "96776c86-54c5-4f4f-d980-7d4cdda7dd56"
      },
      "outputs": [
        {
          "output_type": "stream",
          "name": "stdout",
          "text": [
            "False\n"
          ]
        }
      ],
      "source": [
        "A = np.random.randint(0,2,5)\n",
        "B = np.random.randint(0,2,5)\n",
        "\n",
        "equal = np.allclose(A,B)\n",
        "print(equal)"
      ]
    },
    {
      "cell_type": "markdown",
      "metadata": {
        "id": "TDVCHE5IHuBn"
      },
      "source": [
        "#### 43. Make an array immutable (read-only) (★★☆)"
      ]
    },
    {
      "cell_type": "code",
      "execution_count": 45,
      "metadata": {
        "id": "YCm97x30HuBn",
        "colab": {
          "base_uri": "https://localhost:8080/",
          "height": 183
        },
        "outputId": "f958dba8-39f2-4b77-ee01-fd53e6d1f079"
      },
      "outputs": [
        {
          "output_type": "error",
          "ename": "ValueError",
          "evalue": "assignment destination is read-only",
          "traceback": [
            "\u001b[0;31m---------------------------------------------------------------------------\u001b[0m",
            "\u001b[0;31mValueError\u001b[0m                                Traceback (most recent call last)",
            "\u001b[0;32m<ipython-input-45-c93095895161>\u001b[0m in \u001b[0;36m<cell line: 4>\u001b[0;34m()\u001b[0m\n\u001b[1;32m      2\u001b[0m \u001b[0mA\u001b[0m\u001b[0;34m=\u001b[0m\u001b[0mnp\u001b[0m\u001b[0;34m.\u001b[0m\u001b[0marange\u001b[0m\u001b[0;34m(\u001b[0m\u001b[0;36m10\u001b[0m\u001b[0;34m)\u001b[0m\u001b[0;34m\u001b[0m\u001b[0;34m\u001b[0m\u001b[0m\n\u001b[1;32m      3\u001b[0m \u001b[0mA\u001b[0m\u001b[0;34m.\u001b[0m\u001b[0mflags\u001b[0m\u001b[0;34m.\u001b[0m\u001b[0mwriteable\u001b[0m\u001b[0;34m=\u001b[0m\u001b[0;32mFalse\u001b[0m\u001b[0;34m\u001b[0m\u001b[0;34m\u001b[0m\u001b[0m\n\u001b[0;32m----> 4\u001b[0;31m \u001b[0mA\u001b[0m\u001b[0;34m[\u001b[0m\u001b[0;36m0\u001b[0m\u001b[0;34m]\u001b[0m\u001b[0;34m=\u001b[0m\u001b[0;36m1\u001b[0m\u001b[0;34m\u001b[0m\u001b[0;34m\u001b[0m\u001b[0m\n\u001b[0m",
            "\u001b[0;31mValueError\u001b[0m: assignment destination is read-only"
          ]
        }
      ],
      "source": [
        "import numpy as np\n",
        "A=np.arange(10)\n",
        "A.flags.writeable=False\n",
        "A[0]=1"
      ]
    },
    {
      "cell_type": "markdown",
      "metadata": {
        "id": "MY2KO-8NHuBn"
      },
      "source": [
        "#### 44. Consider a random 10x2 matrix representing cartesian coordinates, convert them to polar coordinates (★★☆)"
      ]
    },
    {
      "cell_type": "code",
      "execution_count": 46,
      "metadata": {
        "id": "vpEWYYINHuBn",
        "colab": {
          "base_uri": "https://localhost:8080/"
        },
        "outputId": "5d53560c-ed3a-498f-e119-70b015123952"
      },
      "outputs": [
        {
          "output_type": "stream",
          "name": "stdout",
          "text": [
            "[0.45530898 1.12251327 0.62657213 0.97471463 0.92218197 1.07366151\n",
            " 0.53244859 0.92653135 0.86184444 1.26888552]\n",
            "[1.34914293 0.85051298 1.14444582 1.39924778 1.11320418 0.41759141\n",
            " 0.57503669 0.88174317 0.23516294 0.90199637]\n"
          ]
        }
      ],
      "source": [
        "A=np.random.random((10,2))\n",
        "X,Y=A[:,0],A[:,1]\n",
        "R=np.sqrt(X**2+Y**2)\n",
        "T=np.arctan2(Y,X)\n",
        "print(R)\n",
        "print(T)"
      ]
    },
    {
      "cell_type": "markdown",
      "metadata": {
        "id": "g3ONjmHpHuBn"
      },
      "source": [
        "#### 45. Create random vector of size 10 and replace the maximum value by 0 (★★☆)"
      ]
    },
    {
      "cell_type": "code",
      "execution_count": 47,
      "metadata": {
        "id": "UQ3-0tRNHuBn",
        "colab": {
          "base_uri": "https://localhost:8080/"
        },
        "outputId": "49a49cc8-b873-4908-a3ea-384c79a6adc2"
      },
      "outputs": [
        {
          "output_type": "stream",
          "name": "stdout",
          "text": [
            "[0.22557659 0.02469963 0.26742821 0.78088742 0.63513972 0.16582416\n",
            " 0.         0.78289381 0.24151466 0.63739498]\n"
          ]
        }
      ],
      "source": [
        "A=np.random.random(10)\n",
        "A[A.argmax()]=0\n",
        "print(A)"
      ]
    },
    {
      "cell_type": "markdown",
      "metadata": {
        "id": "gQUG5AtMHuBn"
      },
      "source": [
        "#### 46. Create a structured array with `x` and `y` coordinates covering the [0,1]x[0,1] area (★★☆)"
      ]
    },
    {
      "cell_type": "code",
      "execution_count": 48,
      "metadata": {
        "id": "l02iuRyrHuBn",
        "colab": {
          "base_uri": "https://localhost:8080/"
        },
        "outputId": "dc747ade-2e20-4aa6-f38d-d817c5ed13d8"
      },
      "outputs": [
        {
          "output_type": "stream",
          "name": "stdout",
          "text": [
            "[[(0.  , 0.  ) (0.25, 0.  ) (0.5 , 0.  ) (0.75, 0.  ) (1.  , 0.  )]\n",
            " [(0.  , 0.25) (0.25, 0.25) (0.5 , 0.25) (0.75, 0.25) (1.  , 0.25)]\n",
            " [(0.  , 0.5 ) (0.25, 0.5 ) (0.5 , 0.5 ) (0.75, 0.5 ) (1.  , 0.5 )]\n",
            " [(0.  , 0.75) (0.25, 0.75) (0.5 , 0.75) (0.75, 0.75) (1.  , 0.75)]\n",
            " [(0.  , 1.  ) (0.25, 1.  ) (0.5 , 1.  ) (0.75, 1.  ) (1.  , 1.  )]]\n"
          ]
        }
      ],
      "source": [
        "A=np.zeros((5,5),[('x',float),('y',float)])\n",
        "A['x'],A['y']=np.meshgrid(np.linspace(0,1,5),np.linspace(0,1,5))\n",
        "print(A)"
      ]
    },
    {
      "cell_type": "markdown",
      "metadata": {
        "id": "ulnA61KGHuBn"
      },
      "source": [
        "#### 47. Given two arrays, X and Y, construct the Cauchy matrix C (Cij =1/(xi - yj))"
      ]
    },
    {
      "cell_type": "code",
      "source": [
        "X = np.array([1, 2, 3, 4, 5])\n",
        "Y = np.array([6, 7, 8, 9, 10])\n",
        "C = 1 / (X[:, None] - Y) # X[:, None] reshapes X to a column....and also X-Y then perform\n",
        "print(C)"
      ],
      "metadata": {
        "colab": {
          "base_uri": "https://localhost:8080/"
        },
        "id": "hmSGVfwvB_Qi",
        "outputId": "b80fe816-a8fe-417a-c0d2-1987817e3e82"
      },
      "execution_count": 50,
      "outputs": [
        {
          "output_type": "stream",
          "name": "stdout",
          "text": [
            "[[-0.2        -0.16666667 -0.14285714 -0.125      -0.11111111]\n",
            " [-0.25       -0.2        -0.16666667 -0.14285714 -0.125     ]\n",
            " [-0.33333333 -0.25       -0.2        -0.16666667 -0.14285714]\n",
            " [-0.5        -0.33333333 -0.25       -0.2        -0.16666667]\n",
            " [-1.         -0.5        -0.33333333 -0.25       -0.2       ]]\n"
          ]
        }
      ]
    },
    {
      "cell_type": "code",
      "execution_count": 49,
      "metadata": {
        "id": "DHy3NxJDHuBn",
        "colab": {
          "base_uri": "https://localhost:8080/"
        },
        "outputId": "194d5444-42d2-494e-ad70-822f2c42b3ff"
      },
      "outputs": [
        {
          "output_type": "stream",
          "name": "stdout",
          "text": [
            "3638.163637117973\n"
          ]
        }
      ],
      "source": [
        "A = np.arange(8)\n",
        "B = A + 0.5\n",
        "C = 1.0 / np.subtract.outer(A, B)\n",
        "print(np.linalg.det(C))"
      ]
    },
    {
      "cell_type": "markdown",
      "metadata": {
        "id": "PtECk8LEHuBn"
      },
      "source": [
        "#### 48. Print the minimum and maximum representable value for each numpy scalar type (★★☆)"
      ]
    },
    {
      "cell_type": "code",
      "source": [
        "for dtype in [np.int8, np.int32, np.int64]:\n",
        "   print(np.iinfo(dtype).min)\n",
        "   print(np.iinfo(dtype).max)\n",
        "for dtype in [np.float32, np.float64]:\n",
        "   print(np.finfo(dtype).min)\n",
        "   print(np.finfo(dtype).max)\n",
        "   print(np.finfo(dtype).eps)"
      ],
      "metadata": {
        "colab": {
          "base_uri": "https://localhost:8080/"
        },
        "id": "l6GnLfVhFxja",
        "outputId": "b728d2a4-5ad1-4077-b18b-e1ca031d5231"
      },
      "execution_count": 54,
      "outputs": [
        {
          "output_type": "stream",
          "name": "stdout",
          "text": [
            "-128\n",
            "127\n",
            "-2147483648\n",
            "2147483647\n",
            "-9223372036854775808\n",
            "9223372036854775807\n",
            "-3.4028235e+38\n",
            "3.4028235e+38\n",
            "1.1920929e-07\n",
            "-1.7976931348623157e+308\n",
            "1.7976931348623157e+308\n",
            "2.220446049250313e-16\n"
          ]
        }
      ]
    },
    {
      "cell_type": "code",
      "execution_count": 51,
      "metadata": {
        "id": "0-503hXpHuBn",
        "colab": {
          "base_uri": "https://localhost:8080/"
        },
        "outputId": "af0c04ad-4e1a-41f9-f78a-a8cf84999885"
      },
      "outputs": [
        {
          "output_type": "stream",
          "name": "stdout",
          "text": [
            "1\n",
            "5\n"
          ]
        }
      ],
      "source": [
        "A=np.array([1,2,3,4,5])\n",
        "print(np.min(A))\n",
        "print(np.max(A))"
      ]
    },
    {
      "cell_type": "markdown",
      "metadata": {
        "id": "xYyM_PmnHuBn"
      },
      "source": [
        "#### 49. How to print all the values of an array? (★★☆)"
      ]
    },
    {
      "cell_type": "code",
      "execution_count": 56,
      "metadata": {
        "id": "SHNjwN2zHuBn",
        "colab": {
          "base_uri": "https://localhost:8080/"
        },
        "outputId": "c463d4b7-3018-4e21-ac51-62ffc92e68db"
      },
      "outputs": [
        {
          "output_type": "stream",
          "name": "stdout",
          "text": [
            "[[0. 0. 0. 0. 0. 0. 0. 0. 0. 0. 0. 0. 0. 0. 0. 0.]\n",
            " [0. 0. 0. 0. 0. 0. 0. 0. 0. 0. 0. 0. 0. 0. 0. 0.]\n",
            " [0. 0. 0. 0. 0. 0. 0. 0. 0. 0. 0. 0. 0. 0. 0. 0.]\n",
            " [0. 0. 0. 0. 0. 0. 0. 0. 0. 0. 0. 0. 0. 0. 0. 0.]\n",
            " [0. 0. 0. 0. 0. 0. 0. 0. 0. 0. 0. 0. 0. 0. 0. 0.]\n",
            " [0. 0. 0. 0. 0. 0. 0. 0. 0. 0. 0. 0. 0. 0. 0. 0.]\n",
            " [0. 0. 0. 0. 0. 0. 0. 0. 0. 0. 0. 0. 0. 0. 0. 0.]\n",
            " [0. 0. 0. 0. 0. 0. 0. 0. 0. 0. 0. 0. 0. 0. 0. 0.]\n",
            " [0. 0. 0. 0. 0. 0. 0. 0. 0. 0. 0. 0. 0. 0. 0. 0.]\n",
            " [0. 0. 0. 0. 0. 0. 0. 0. 0. 0. 0. 0. 0. 0. 0. 0.]\n",
            " [0. 0. 0. 0. 0. 0. 0. 0. 0. 0. 0. 0. 0. 0. 0. 0.]\n",
            " [0. 0. 0. 0. 0. 0. 0. 0. 0. 0. 0. 0. 0. 0. 0. 0.]\n",
            " [0. 0. 0. 0. 0. 0. 0. 0. 0. 0. 0. 0. 0. 0. 0. 0.]\n",
            " [0. 0. 0. 0. 0. 0. 0. 0. 0. 0. 0. 0. 0. 0. 0. 0.]\n",
            " [0. 0. 0. 0. 0. 0. 0. 0. 0. 0. 0. 0. 0. 0. 0. 0.]\n",
            " [0. 0. 0. 0. 0. 0. 0. 0. 0. 0. 0. 0. 0. 0. 0. 0.]]\n"
          ]
        }
      ],
      "source": [
        "np.set_printoptions(threshold=float(\"inf\"))\n",
        "A=np.zeros((16,16))\n",
        "print(A)"
      ]
    },
    {
      "cell_type": "markdown",
      "metadata": {
        "id": "UySPS1H4HuBn"
      },
      "source": [
        "#### 50. How to find the closest value (to a given scalar) in a vector? (★★☆)"
      ]
    },
    {
      "cell_type": "code",
      "execution_count": 57,
      "metadata": {
        "id": "ucZZ4Wn6HuBn",
        "colab": {
          "base_uri": "https://localhost:8080/"
        },
        "outputId": "7c0fcea1-db87-44ca-f8e1-97bae38ad7d5"
      },
      "outputs": [
        {
          "output_type": "stream",
          "name": "stdout",
          "text": [
            "77\n"
          ]
        }
      ],
      "source": [
        "A=np.arange(100)\n",
        "B=np.random.uniform(0,100)\n",
        "index=(np.abs(A-B)).argmin()\n",
        "print(A[index])"
      ]
    },
    {
      "cell_type": "markdown",
      "metadata": {
        "id": "NiklHmY9HuBn"
      },
      "source": [
        "Save and commit your work."
      ]
    },
    {
      "cell_type": "code",
      "execution_count": 112,
      "metadata": {
        "id": "xszlw2R_HuBn"
      },
      "outputs": [],
      "source": [
        "import jovian"
      ]
    },
    {
      "cell_type": "code",
      "execution_count": 113,
      "metadata": {
        "id": "KfTCKqxdHuBn",
        "outputId": "6525f937-89a4-4f0a-f23a-31a25353449b",
        "colab": {
          "base_uri": "https://localhost:8080/"
        }
      },
      "outputs": [
        {
          "output_type": "stream",
          "name": "stdout",
          "text": [
            "[jovian] Detected Colab notebook...\u001b[0m\n",
            "[jovian] jovian.commit() is no longer required on Google Colab. If you ran this notebook from Jovian, \n",
            "then just save this file in Colab using Ctrl+S/Cmd+S and it will be updated on Jovian. \n",
            "Also, you can also delete this cell, it's no longer necessary.\u001b[0m\n"
          ]
        }
      ],
      "source": [
        "jovian.commit()"
      ]
    },
    {
      "cell_type": "markdown",
      "metadata": {
        "id": "OpxrApn2HuBo"
      },
      "source": [
        "#### 51. Create a structured array representing a position (x,y) and a color (r,g,b) (★★☆)"
      ]
    },
    {
      "cell_type": "code",
      "execution_count": 60,
      "metadata": {
        "id": "TpphXICKHuBo",
        "colab": {
          "base_uri": "https://localhost:8080/"
        },
        "outputId": "3e9d598c-7af7-403e-829d-f19e8f87d031"
      },
      "outputs": [
        {
          "output_type": "stream",
          "name": "stdout",
          "text": [
            "[((0., 0.), (0., 0., 0.)) ((0., 0.), (0., 0., 0.))\n",
            " ((0., 0.), (0., 0., 0.)) ((0., 0.), (0., 0., 0.))\n",
            " ((0., 0.), (0., 0., 0.)) ((0., 0.), (0., 0., 0.))\n",
            " ((0., 0.), (0., 0., 0.)) ((0., 0.), (0., 0., 0.))\n",
            " ((0., 0.), (0., 0., 0.)) ((0., 0.), (0., 0., 0.))]\n"
          ]
        },
        {
          "output_type": "stream",
          "name": "stderr",
          "text": [
            "<ipython-input-60-6f1aa4d7a2ff>:1: FutureWarning: Passing (type, 1) or '1type' as a synonym of type is deprecated; in a future version of numpy, it will be understood as (type, (1,)) / '(1,)type'.\n",
            "  Z = np.zeros(10, [ ('position', [ ('x', float, 1),\n"
          ]
        }
      ],
      "source": [
        "Z = np.zeros(10, [ ('position', [ ('x', float, 1),\n",
        "                                  ('y', float, 1)]),\n",
        "                   ('color',    [ ('r', float, 1),\n",
        "                                  ('g', float, 1),\n",
        "                                  ('b', float, 1)])])\n",
        "print(Z)"
      ]
    },
    {
      "cell_type": "markdown",
      "metadata": {
        "id": "vhMHM4O7HuBo"
      },
      "source": [
        "#### 52. Consider a random vector with shape (100,2) representing coordinates, find point by point distances (★★☆)"
      ]
    },
    {
      "cell_type": "code",
      "execution_count": 62,
      "metadata": {
        "id": "bv1f2KcCHuBo",
        "colab": {
          "base_uri": "https://localhost:8080/"
        },
        "outputId": "adb48386-0cd0-4e0d-fa46-8f5d6ae2ccf1"
      },
      "outputs": [
        {
          "output_type": "stream",
          "name": "stdout",
          "text": [
            "[[0.         0.75719043 0.87263504 0.67146057 0.14037115 0.76515477\n",
            "  0.51505548 0.94915155 0.85793869 0.86198703]\n",
            " [0.75719043 0.         0.1903442  0.26240567 0.69620001 0.79231451\n",
            "  0.32453676 0.20575362 0.31089529 0.1950184 ]\n",
            " [0.87263504 0.1903442  0.         0.45259626 0.83520402 0.72494208\n",
            "  0.50310322 0.11821688 0.47299064 0.33659708]\n",
            " [0.67146057 0.26240567 0.45259626 0.         0.5698636  0.95221187\n",
            "  0.15640875 0.44372105 0.18694393 0.2203617 ]\n",
            " [0.14037115 0.69620001 0.83520402 0.5698636  0.         0.84808808\n",
            "  0.41629367 0.89738852 0.7528765  0.77445062]\n",
            " [0.76515477 0.79231451 0.72494208 0.95221187 0.84808808 0.\n",
            "  0.86596636 0.84294004 1.08561799 0.98687224]\n",
            " [0.51505548 0.32453676 0.50310322 0.15640875 0.41629367 0.86596636\n",
            "  0.         0.52873775 0.34312061 0.35990509]\n",
            " [0.94915155 0.20575362 0.11821688 0.44372105 0.89738852 0.84294004\n",
            "  0.52873775 0.         0.41660445 0.27666635]\n",
            " [0.85793869 0.31089529 0.47299064 0.18694393 0.7528765  1.08561799\n",
            "  0.34312061 0.41660445 0.         0.14011121]\n",
            " [0.86198703 0.1950184  0.33659708 0.2203617  0.77445062 0.98687224\n",
            "  0.35990509 0.27666635 0.14011121 0.        ]]\n"
          ]
        }
      ],
      "source": [
        "A = np.random.random((10,2))\n",
        "X,Y = np.atleast_2d(Z[:,0], Z[:,1])\n",
        "D = np.sqrt( (X-X.T)**2 + (Y-Y.T)**2)\n",
        "print(D)"
      ]
    },
    {
      "cell_type": "markdown",
      "metadata": {
        "id": "aWtjbD1xHuBo"
      },
      "source": [
        "#### 53. How to convert a float (32 bits) array into an integer (32 bits) in place?"
      ]
    },
    {
      "cell_type": "code",
      "execution_count": 64,
      "metadata": {
        "id": "ebymZTuUHuBo",
        "colab": {
          "base_uri": "https://localhost:8080/"
        },
        "outputId": "595fab18-214c-4d03-88c6-296821557dc0"
      },
      "outputs": [
        {
          "output_type": "stream",
          "name": "stdout",
          "text": [
            "[64 28 41 22 85 74 43 24 81 70]\n"
          ]
        }
      ],
      "source": [
        "Z = (np.random.rand(10)*100).astype(np.float32)\n",
        "Y = Z.view(np.int32)\n",
        "Y[:] = Z\n",
        "print(Y)"
      ]
    },
    {
      "cell_type": "markdown",
      "metadata": {
        "id": "OBq-VvOyHuBo"
      },
      "source": [
        "#### 54. How to read the following file? (★★☆)\n",
        "```\n",
        "1, 2, 3, 4, 5\n",
        "6,  ,  , 7, 8\n",
        " ,  , 9,10,11\n",
        "```"
      ]
    },
    {
      "cell_type": "code",
      "execution_count": 67,
      "metadata": {
        "id": "amy4YmkIHuBo",
        "colab": {
          "base_uri": "https://localhost:8080/",
          "height": 402
        },
        "outputId": "a60d9dcd-2b3c-42c9-a1b6-fb07644efa09"
      },
      "outputs": [
        {
          "output_type": "error",
          "ename": "AttributeError",
          "evalue": "module 'numpy' has no attribute 'int'.\n`np.int` was a deprecated alias for the builtin `int`. To avoid this error in existing code, use `int` by itself. Doing this will not modify any behavior and is safe. When replacing `np.int`, you may wish to use e.g. `np.int64` or `np.int32` to specify the precision. If you wish to review your current use, check the release note link for additional information.\nThe aliases was originally deprecated in NumPy 1.20; for more details and guidance see the original release note at:\n    https://numpy.org/devdocs/release/1.20.0-notes.html#deprecations",
          "traceback": [
            "\u001b[0;31m---------------------------------------------------------------------------\u001b[0m",
            "\u001b[0;31mAttributeError\u001b[0m                            Traceback (most recent call last)",
            "\u001b[0;32m<ipython-input-67-3055aefe133f>\u001b[0m in \u001b[0;36m<cell line: 8>\u001b[0;34m()\u001b[0m\n\u001b[1;32m      6\u001b[0m                  \u001b[0;34m,\u001b[0m  \u001b[0;34m,\u001b[0m \u001b[0;36m9\u001b[0m\u001b[0;34m,\u001b[0m\u001b[0;36m10\u001b[0m\u001b[0;34m,\u001b[0m\u001b[0;36m11\u001b[0m\u001b[0;34m\u001b[0m\u001b[0;34m\u001b[0m\u001b[0m\n\u001b[1;32m      7\u001b[0m ''')\n\u001b[0;32m----> 8\u001b[0;31m \u001b[0mZ\u001b[0m \u001b[0;34m=\u001b[0m \u001b[0mnp\u001b[0m\u001b[0;34m.\u001b[0m\u001b[0mgenfromtxt\u001b[0m\u001b[0;34m(\u001b[0m\u001b[0ms\u001b[0m\u001b[0;34m,\u001b[0m \u001b[0mdelimiter\u001b[0m\u001b[0;34m=\u001b[0m\u001b[0;34m\",\"\u001b[0m\u001b[0;34m,\u001b[0m \u001b[0mdtype\u001b[0m\u001b[0;34m=\u001b[0m\u001b[0mnp\u001b[0m\u001b[0;34m.\u001b[0m\u001b[0mint\u001b[0m\u001b[0;34m)\u001b[0m\u001b[0;34m\u001b[0m\u001b[0;34m\u001b[0m\u001b[0m\n\u001b[0m\u001b[1;32m      9\u001b[0m \u001b[0mprint\u001b[0m\u001b[0;34m(\u001b[0m\u001b[0mZ\u001b[0m\u001b[0;34m)\u001b[0m\u001b[0;34m\u001b[0m\u001b[0;34m\u001b[0m\u001b[0m\n",
            "\u001b[0;32m/usr/local/lib/python3.10/dist-packages/numpy/__init__.py\u001b[0m in \u001b[0;36m__getattr__\u001b[0;34m(attr)\u001b[0m\n\u001b[1;32m    322\u001b[0m \u001b[0;34m\u001b[0m\u001b[0m\n\u001b[1;32m    323\u001b[0m         \u001b[0;32mif\u001b[0m \u001b[0mattr\u001b[0m \u001b[0;32min\u001b[0m \u001b[0m__former_attrs__\u001b[0m\u001b[0;34m:\u001b[0m\u001b[0;34m\u001b[0m\u001b[0;34m\u001b[0m\u001b[0m\n\u001b[0;32m--> 324\u001b[0;31m             \u001b[0;32mraise\u001b[0m \u001b[0mAttributeError\u001b[0m\u001b[0;34m(\u001b[0m\u001b[0m__former_attrs__\u001b[0m\u001b[0;34m[\u001b[0m\u001b[0mattr\u001b[0m\u001b[0;34m]\u001b[0m\u001b[0;34m)\u001b[0m\u001b[0;34m\u001b[0m\u001b[0;34m\u001b[0m\u001b[0m\n\u001b[0m\u001b[1;32m    325\u001b[0m \u001b[0;34m\u001b[0m\u001b[0m\n\u001b[1;32m    326\u001b[0m         \u001b[0;32mif\u001b[0m \u001b[0mattr\u001b[0m \u001b[0;34m==\u001b[0m \u001b[0;34m'testing'\u001b[0m\u001b[0;34m:\u001b[0m\u001b[0;34m\u001b[0m\u001b[0;34m\u001b[0m\u001b[0m\n",
            "\u001b[0;31mAttributeError\u001b[0m: module 'numpy' has no attribute 'int'.\n`np.int` was a deprecated alias for the builtin `int`. To avoid this error in existing code, use `int` by itself. Doing this will not modify any behavior and is safe. When replacing `np.int`, you may wish to use e.g. `np.int64` or `np.int32` to specify the precision. If you wish to review your current use, check the release note link for additional information.\nThe aliases was originally deprecated in NumPy 1.20; for more details and guidance see the original release note at:\n    https://numpy.org/devdocs/release/1.20.0-notes.html#deprecations"
          ]
        }
      ],
      "source": [
        "from io import StringIO\n",
        "s = StringIO('''1, 2, 3, 4, 5\n",
        "\n",
        "                6,  ,  , 7, 8\n",
        "\n",
        "                 ,  , 9,10,11\n",
        "''')\n",
        "Z = np.genfromtxt(s, delimiter=\",\", dtype=np.int)\n",
        "print(Z)"
      ]
    },
    {
      "cell_type": "markdown",
      "metadata": {
        "id": "IrJGzp9EHuBo"
      },
      "source": [
        "#### 55. What is the equivalent of enumerate for numpy arrays? (★★☆)"
      ]
    },
    {
      "cell_type": "code",
      "source": [
        "Z = np.arange(9).reshape(3,3)\n",
        "for index, value in np.ndenumerate(Z):\n",
        "    print(index, value)\n",
        "for index in np.ndindex(Z.shape):\n",
        "    print(index, Z[index])"
      ],
      "metadata": {
        "colab": {
          "base_uri": "https://localhost:8080/"
        },
        "id": "kOxdi3HxJvS7",
        "outputId": "1b67d87c-180c-4ee7-8df6-737321c8367c"
      },
      "execution_count": 81,
      "outputs": [
        {
          "output_type": "stream",
          "name": "stdout",
          "text": [
            "(0, 0) 0\n",
            "(0, 1) 1\n",
            "(0, 2) 2\n",
            "(1, 0) 3\n",
            "(1, 1) 4\n",
            "(1, 2) 5\n",
            "(2, 0) 6\n",
            "(2, 1) 7\n",
            "(2, 2) 8\n",
            "(0, 0) 0\n",
            "(0, 1) 1\n",
            "(0, 2) 2\n",
            "(1, 0) 3\n",
            "(1, 1) 4\n",
            "(1, 2) 5\n",
            "(2, 0) 6\n",
            "(2, 1) 7\n",
            "(2, 2) 8\n"
          ]
        }
      ]
    },
    {
      "cell_type": "markdown",
      "metadata": {
        "id": "TNiNmxpjHuBo"
      },
      "source": [
        "#### 56. Generate a generic 2D Gaussian-like array (★★☆)"
      ]
    },
    {
      "cell_type": "code",
      "execution_count": 80,
      "metadata": {
        "id": "1q_phbXUHuBo",
        "colab": {
          "base_uri": "https://localhost:8080/"
        },
        "outputId": "9d603e8d-517d-4b86-beb2-4261224c500d"
      },
      "outputs": [
        {
          "output_type": "stream",
          "name": "stdout",
          "text": [
            "[[0.36787944 0.44822088 0.51979489 0.57375342 0.60279818 0.60279818\n",
            "  0.57375342 0.51979489 0.44822088 0.36787944]\n",
            " [0.44822088 0.54610814 0.63331324 0.69905581 0.73444367 0.73444367\n",
            "  0.69905581 0.63331324 0.54610814 0.44822088]\n",
            " [0.51979489 0.63331324 0.73444367 0.81068432 0.85172308 0.85172308\n",
            "  0.81068432 0.73444367 0.63331324 0.51979489]\n",
            " [0.57375342 0.69905581 0.81068432 0.89483932 0.9401382  0.9401382\n",
            "  0.89483932 0.81068432 0.69905581 0.57375342]\n",
            " [0.60279818 0.73444367 0.85172308 0.9401382  0.98773022 0.98773022\n",
            "  0.9401382  0.85172308 0.73444367 0.60279818]\n",
            " [0.60279818 0.73444367 0.85172308 0.9401382  0.98773022 0.98773022\n",
            "  0.9401382  0.85172308 0.73444367 0.60279818]\n",
            " [0.57375342 0.69905581 0.81068432 0.89483932 0.9401382  0.9401382\n",
            "  0.89483932 0.81068432 0.69905581 0.57375342]\n",
            " [0.51979489 0.63331324 0.73444367 0.81068432 0.85172308 0.85172308\n",
            "  0.81068432 0.73444367 0.63331324 0.51979489]\n",
            " [0.44822088 0.54610814 0.63331324 0.69905581 0.73444367 0.73444367\n",
            "  0.69905581 0.63331324 0.54610814 0.44822088]\n",
            " [0.36787944 0.44822088 0.51979489 0.57375342 0.60279818 0.60279818\n",
            "  0.57375342 0.51979489 0.44822088 0.36787944]]\n"
          ]
        }
      ],
      "source": [
        "X, Y = np.meshgrid(np.linspace(-1,1,10), np.linspace(-1,1,10))\n",
        "D = np.sqrt(X*X+Y*Y)\n",
        "sigma, mu = 1.0, 0.0\n",
        "G = np.exp(-( (D-mu)**2 / ( 2.0 * sigma**2 ) ) )\n",
        "print(G)"
      ]
    },
    {
      "cell_type": "markdown",
      "metadata": {
        "id": "zlc7Y0fYHuBo"
      },
      "source": [
        "#### 57. How to randomly place p elements in a 2D array? (★★☆)"
      ]
    },
    {
      "cell_type": "code",
      "execution_count": 79,
      "metadata": {
        "id": "bvklO3jTHuBo",
        "colab": {
          "base_uri": "https://localhost:8080/"
        },
        "outputId": "47722d79-cbf9-4d6f-d9f7-425913fc12f3"
      },
      "outputs": [
        {
          "output_type": "stream",
          "name": "stdout",
          "text": [
            "[[0. 0. 0. 0. 0. 0. 0. 0. 0. 0.]\n",
            " [0. 0. 0. 0. 0. 0. 0. 0. 0. 0.]\n",
            " [0. 0. 0. 0. 1. 0. 0. 0. 0. 0.]\n",
            " [0. 0. 0. 0. 0. 0. 0. 0. 0. 0.]\n",
            " [0. 0. 0. 0. 0. 0. 0. 0. 0. 0.]\n",
            " [0. 0. 0. 0. 0. 0. 0. 0. 0. 0.]\n",
            " [0. 0. 0. 0. 0. 0. 0. 0. 0. 0.]\n",
            " [0. 0. 0. 0. 0. 0. 0. 0. 0. 0.]\n",
            " [0. 1. 0. 0. 0. 1. 0. 0. 0. 0.]\n",
            " [0. 0. 0. 0. 0. 0. 0. 0. 0. 0.]]\n"
          ]
        }
      ],
      "source": [
        "n = 10\n",
        "p = 3\n",
        "Z = np.zeros((n,n))\n",
        "np.put(Z, np.random.choice(range(n*n), p, replace=False),1)\n",
        "print(Z)"
      ]
    },
    {
      "cell_type": "markdown",
      "metadata": {
        "id": "A5JyRNnQHuBo"
      },
      "source": [
        "#### 58. Subtract the mean of each row of a matrix (★★☆)"
      ]
    },
    {
      "cell_type": "code",
      "execution_count": 78,
      "metadata": {
        "id": "sF8bF1lxHuBo",
        "colab": {
          "base_uri": "https://localhost:8080/"
        },
        "outputId": "2d90de04-6198-4e10-b1a5-8ff506c965f1"
      },
      "outputs": [
        {
          "output_type": "execute_result",
          "data": {
            "text/plain": [
              "array([[ 0.00424002, -0.36315922,  0.01026132, -0.17521421,  0.2165375 ,\n",
              "         0.26144127,  0.20062573, -0.24107829, -0.24195935,  0.32830523],\n",
              "       [-0.23515356, -0.29150737,  0.12750229,  0.39502555,  0.37135311,\n",
              "         0.09477695, -0.39404953,  0.13031844,  0.19840735, -0.39667322],\n",
              "       [ 0.23092291,  0.1226474 , -0.31882162,  0.27219373,  0.08005318,\n",
              "         0.10275094, -0.23664486, -0.55864375,  0.13152576,  0.1740163 ],\n",
              "       [-0.07572393, -0.45432908, -0.2399902 , -0.065555  ,  0.30300932,\n",
              "         0.34511015,  0.24812069, -0.01508251, -0.33122743,  0.285668  ],\n",
              "       [-0.51435373,  0.23872698,  0.18001053, -0.47112456,  0.44698025,\n",
              "        -0.48922514,  0.29604114,  0.19591307,  0.22097992, -0.10394846]])"
            ]
          },
          "metadata": {},
          "execution_count": 78
        }
      ],
      "source": [
        "X = np.random.rand(5, 10)\n",
        "\n",
        "Y = X - X.mean(axis=1, keepdims=True)\n",
        "\n",
        "Y = X - X.mean(axis=1).reshape(-1, 1)\n",
        "Y"
      ]
    },
    {
      "cell_type": "markdown",
      "metadata": {
        "id": "zyiE3Le1HuBo"
      },
      "source": [
        "#### 59. How to sort an array by the nth column? (★★☆)"
      ]
    },
    {
      "cell_type": "code",
      "execution_count": 77,
      "metadata": {
        "id": "rcd92eFqHuBo",
        "colab": {
          "base_uri": "https://localhost:8080/"
        },
        "outputId": "c26adb3e-83e5-4c6f-bcb1-b68999614a2d"
      },
      "outputs": [
        {
          "output_type": "stream",
          "name": "stdout",
          "text": [
            "[[1 0 6]\n",
            " [8 6 2]\n",
            " [1 4 9]]\n",
            "[[1 0 6]\n",
            " [1 4 9]\n",
            " [8 6 2]]\n"
          ]
        }
      ],
      "source": [
        "A= np.random.randint(0,10,(3,3))\n",
        "print(A)\n",
        "print(A[A[:,1].argsort()])"
      ]
    },
    {
      "cell_type": "markdown",
      "metadata": {
        "id": "zFpPmXV_HuBo"
      },
      "source": [
        "#### 60. How to tell if a given 2D array has null columns? (★★☆)"
      ]
    },
    {
      "cell_type": "code",
      "execution_count": 76,
      "metadata": {
        "id": "U3gYU7YvHuBo",
        "colab": {
          "base_uri": "https://localhost:8080/"
        },
        "outputId": "eaada655-e30b-47a6-d452-a86b5abd7be0"
      },
      "outputs": [
        {
          "output_type": "stream",
          "name": "stdout",
          "text": [
            "True\n",
            "[False False  True]\n"
          ]
        }
      ],
      "source": [
        "\n",
        "Z = np.random.randint(0,3,(3,10))\n",
        "print((~Z.any(axis=0)).any())\n",
        "\n",
        "Z=np.array([\n",
        "    [0,1,np.nan],\n",
        "    [1,2,np.nan],\n",
        "    [4,5,np.nan]\n",
        "])\n",
        "print(np.isnan(Z).all(axis=0))"
      ]
    },
    {
      "cell_type": "markdown",
      "metadata": {
        "id": "xmIeuhMtHuBp"
      },
      "source": [
        "Save and commit your work."
      ]
    },
    {
      "cell_type": "code",
      "execution_count": 114,
      "metadata": {
        "id": "CnoNuokzHuBp"
      },
      "outputs": [],
      "source": [
        "import jovian"
      ]
    },
    {
      "cell_type": "code",
      "execution_count": 115,
      "metadata": {
        "id": "NwWtLuSpHuBp",
        "outputId": "d8912b2f-7d0e-4af8-e72d-0ee0566b3de5",
        "colab": {
          "base_uri": "https://localhost:8080/"
        }
      },
      "outputs": [
        {
          "output_type": "stream",
          "name": "stdout",
          "text": [
            "[jovian] Detected Colab notebook...\u001b[0m\n",
            "[jovian] jovian.commit() is no longer required on Google Colab. If you ran this notebook from Jovian, \n",
            "then just save this file in Colab using Ctrl+S/Cmd+S and it will be updated on Jovian. \n",
            "Also, you can also delete this cell, it's no longer necessary.\u001b[0m\n"
          ]
        }
      ],
      "source": [
        "jovian.commit()"
      ]
    },
    {
      "cell_type": "markdown",
      "metadata": {
        "id": "Fx3GA8QrHuBp"
      },
      "source": [
        "#### 61. Find the nearest value from a given value in an array (★★☆)"
      ]
    },
    {
      "cell_type": "code",
      "execution_count": 83,
      "metadata": {
        "id": "LKg2n2O7HuBp",
        "colab": {
          "base_uri": "https://localhost:8080/"
        },
        "outputId": "cf4f91a9-15fd-4785-a2c0-ad8bf856f5d8"
      },
      "outputs": [
        {
          "output_type": "stream",
          "name": "stdout",
          "text": [
            "0.6125768733487998\n"
          ]
        }
      ],
      "source": [
        "Z = np.random.uniform(0,1,10)\n",
        "z = 0.5\n",
        "m = Z.flat[np.abs(Z - z).argmin()]\n",
        "print(m)"
      ]
    },
    {
      "cell_type": "markdown",
      "metadata": {
        "id": "EpLPSo78HuBp"
      },
      "source": [
        "#### 62. Considering two arrays with shape (1,3) and (3,1), how to compute their sum using an iterator? (★★☆)"
      ]
    },
    {
      "cell_type": "code",
      "execution_count": 84,
      "metadata": {
        "id": "QSLA0wGXHuBp",
        "colab": {
          "base_uri": "https://localhost:8080/"
        },
        "outputId": "3e60dcfa-2c01-4077-e42a-815dc56607f1"
      },
      "outputs": [
        {
          "output_type": "stream",
          "name": "stdout",
          "text": [
            "[[0 1 2]\n",
            " [1 2 3]\n",
            " [2 3 4]]\n"
          ]
        }
      ],
      "source": [
        "A = np.arange(3).reshape(3,1)\n",
        "B = np.arange(3).reshape(1,3)\n",
        "it = np.nditer([A,B,None])\n",
        "for x,y,z in it: z[...] = x + y\n",
        "print(it.operands[2])"
      ]
    },
    {
      "cell_type": "markdown",
      "metadata": {
        "id": "EvNQXkh6HuBp"
      },
      "source": [
        "#### 63. Create an array class that has a name attribute (★★☆)"
      ]
    },
    {
      "cell_type": "code",
      "execution_count": 86,
      "metadata": {
        "id": "e5BweZZxHuBp",
        "colab": {
          "base_uri": "https://localhost:8080/"
        },
        "outputId": "f17cb121-42da-46d7-d788-375f4438b80e"
      },
      "outputs": [
        {
          "output_type": "stream",
          "name": "stdout",
          "text": [
            "range_10\n"
          ]
        }
      ],
      "source": [
        "class NamedArray(np.ndarray):\n",
        "    def __new__(cls, array, name=\"no name\"):\n",
        "        obj = np.asarray(array).view(cls)\n",
        "        obj.name = name\n",
        "        return obj\n",
        "    def __array_finalize__(self, obj):\n",
        "        if obj is None: return\n",
        "        self.name = getattr(obj, 'name', \"no name\")\n",
        "\n",
        "Z = NamedArray(np.arange(10), \"range_10\")\n",
        "print (Z.name)"
      ]
    },
    {
      "cell_type": "markdown",
      "metadata": {
        "id": "fhgOrurJHuBp"
      },
      "source": [
        "#### 64. Consider a given vector, how to add 1 to each element indexed by a second vector (be careful with repeated indices)? (★★★)"
      ]
    },
    {
      "cell_type": "code",
      "execution_count": 87,
      "metadata": {
        "id": "vlgq9dbxHuBp",
        "colab": {
          "base_uri": "https://localhost:8080/"
        },
        "outputId": "da61c607-3064-41dd-9c4c-6afb5707644a"
      },
      "outputs": [
        {
          "output_type": "stream",
          "name": "stdout",
          "text": [
            "[4. 5. 2. 4. 2. 2. 2. 4. 2. 3.]\n",
            "[7. 9. 3. 7. 3. 3. 3. 7. 3. 5.]\n"
          ]
        }
      ],
      "source": [
        "Z = np.ones(10)\n",
        "I = np.random.randint(0,len(Z),20)\n",
        "Z += np.bincount(I, minlength=len(Z))\n",
        "print(Z)\n",
        "\n",
        "np.add.at(Z, I, 1)\n",
        "print(Z)"
      ]
    },
    {
      "cell_type": "markdown",
      "metadata": {
        "id": "EwQQWF4QHuBp"
      },
      "source": [
        "#### 65. How to accumulate elements of a vector (X) to an array (F) based on an index list (I)? (★★★)"
      ]
    },
    {
      "cell_type": "code",
      "execution_count": 88,
      "metadata": {
        "id": "7zvPhJMFHuBp",
        "colab": {
          "base_uri": "https://localhost:8080/"
        },
        "outputId": "b3756d79-1f23-4ba9-df84-945c9d556513"
      },
      "outputs": [
        {
          "output_type": "stream",
          "name": "stdout",
          "text": [
            "[0. 7. 0. 6. 5. 0. 0. 0. 0. 3.]\n"
          ]
        }
      ],
      "source": [
        "A = [1,2,3,4,5,6]\n",
        "B = [1,3,9,3,4,1]\n",
        "F = np.bincount(B,A)\n",
        "print(F)"
      ]
    },
    {
      "cell_type": "markdown",
      "metadata": {
        "id": "TDkX8JTOHuBp"
      },
      "source": [
        "#### 66. Considering a (w,h,3) image of (dtype=ubyte), compute the number of unique colors (★★★)"
      ]
    },
    {
      "cell_type": "code",
      "execution_count": 89,
      "metadata": {
        "id": "pmq-_SqUHuBp",
        "colab": {
          "base_uri": "https://localhost:8080/"
        },
        "outputId": "da135a78-15bf-48d5-a181-df38be327f23"
      },
      "outputs": [
        {
          "output_type": "stream",
          "name": "stdout",
          "text": [
            "64\n",
            "64\n"
          ]
        }
      ],
      "source": [
        "w, h = 256, 256\n",
        "I = np.random.randint(0, 4, (h, w, 3)).astype(np.ubyte)\n",
        "colors = np.unique(I.reshape(-1, 3), axis=0)\n",
        "n = len(colors)\n",
        "print(n)\n",
        "\n",
        "w, h = 256, 256\n",
        "I = np.random.randint(0,4,(h,w,3), dtype=np.uint8)\n",
        "I24 = np.dot(I.astype(np.uint32),[1,256,65536])\n",
        "n = len(np.unique(I24))\n",
        "print(n)"
      ]
    },
    {
      "cell_type": "markdown",
      "metadata": {
        "id": "4tscc17JHuBp"
      },
      "source": [
        "#### 67. Considering a four dimensions array, how to get sum over the last two axis at once? (★★★)"
      ]
    },
    {
      "cell_type": "code",
      "execution_count": 90,
      "metadata": {
        "id": "rodszgo3HuBp",
        "colab": {
          "base_uri": "https://localhost:8080/"
        },
        "outputId": "452ed1b8-fbd0-4e6c-ac55-eec8e3aee15a"
      },
      "outputs": [
        {
          "output_type": "stream",
          "name": "stdout",
          "text": [
            "[[48 38 56 56]\n",
            " [50 60 61 51]\n",
            " [66 45 36 58]]\n",
            "[[48 38 56 56]\n",
            " [50 60 61 51]\n",
            " [66 45 36 58]]\n"
          ]
        }
      ],
      "source": [
        "A = np.random.randint(0,10,(3,4,3,4))\n",
        "sum = A.sum(axis=(-2,-1))\n",
        "print(sum)\n",
        "\n",
        "sum = A.reshape(A.shape[:-2] + (-1,)).sum(axis=-1)\n",
        "print(sum)"
      ]
    },
    {
      "cell_type": "markdown",
      "metadata": {
        "id": "93aAvkUoHuBp"
      },
      "source": [
        "#### 68. Considering a one-dimensional vector D, how to compute means of subsets of D using a vector S of same size describing subset  indices? (★★★)"
      ]
    },
    {
      "cell_type": "code",
      "execution_count": 92,
      "metadata": {
        "id": "YjCNvU_qHuBp",
        "colab": {
          "base_uri": "https://localhost:8080/"
        },
        "outputId": "64f64199-80ae-4314-baa2-c72d90fc4e35"
      },
      "outputs": [
        {
          "output_type": "stream",
          "name": "stdout",
          "text": [
            "[0.41872198 0.52217411 0.53413858 0.52841394 0.59075705 0.48870129\n",
            " 0.48367378 0.61018562 0.35986113 0.54135503]\n",
            "0    0.418722\n",
            "1    0.522174\n",
            "2    0.534139\n",
            "3    0.528414\n",
            "4    0.590757\n",
            "5    0.488701\n",
            "6    0.483674\n",
            "7    0.610186\n",
            "8    0.359861\n",
            "9    0.541355\n",
            "dtype: float64\n"
          ]
        }
      ],
      "source": [
        "D = np.random.uniform(0,1,100)\n",
        "S = np.random.randint(0,10,100)\n",
        "D_sums = np.bincount(S, weights=D)\n",
        "D_counts = np.bincount(S)\n",
        "D_means = D_sums / D_counts\n",
        "print(D_means)\n",
        "import pandas as pd\n",
        "print(pd.Series(D).groupby(S).mean())"
      ]
    },
    {
      "cell_type": "markdown",
      "metadata": {
        "id": "iABJXFmaHuBp"
      },
      "source": [
        "#### 69. How to get the diagonal of a dot product? (★★★)"
      ]
    },
    {
      "cell_type": "code",
      "execution_count": 93,
      "metadata": {
        "id": "nzd8oMYlHuBp",
        "colab": {
          "base_uri": "https://localhost:8080/"
        },
        "outputId": "0cf4c239-defe-4aee-c80b-607657ffdb06"
      },
      "outputs": [
        {
          "output_type": "execute_result",
          "data": {
            "text/plain": [
              "array([0.46994953, 1.48775369, 2.0710265 , 1.76666368, 1.35633088])"
            ]
          },
          "metadata": {},
          "execution_count": 93
        }
      ],
      "source": [
        "A = np.random.uniform(0,1,(5,5))\n",
        "B = np.random.uniform(0,1,(5,5))\n",
        "\n",
        "np.diag(np.dot(A, B))\n",
        "\n",
        "np.sum(A * B.T, axis=1)\n",
        "\n",
        "np.einsum(\"ij,ji->i\", A, B)"
      ]
    },
    {
      "cell_type": "markdown",
      "metadata": {
        "id": "HW4TJ4oAHuBp"
      },
      "source": [
        "#### 70. Consider the vector [1, 2, 3, 4, 5], how to build a new vector with 3 consecutive zeros interleaved between each value? (★★★)"
      ]
    },
    {
      "cell_type": "code",
      "execution_count": 131,
      "metadata": {
        "id": "gqn_qTXxHuBp"
      },
      "outputs": [],
      "source": [
        "Z = np.array([1,2,3,4,5])\n",
        "nz = 3\n"
      ]
    },
    {
      "cell_type": "code",
      "execution_count": 132,
      "metadata": {
        "id": "PVypkRJTHuBp",
        "colab": {
          "base_uri": "https://localhost:8080/"
        },
        "outputId": "8f224904-b271-4497-d88a-7f0aebf262f3"
      },
      "outputs": [
        {
          "output_type": "stream",
          "name": "stdout",
          "text": [
            "[1. 0. 0. 0. 2. 0. 0. 0. 3. 0. 0. 0. 4. 0. 0. 0. 5.]\n"
          ]
        }
      ],
      "source": [
        "Z0 = np.zeros(len(Z) + (len(Z)-1)*(nz))\n",
        "Z0[::nz+1] = Z\n",
        "print(Z0)"
      ]
    },
    {
      "cell_type": "markdown",
      "metadata": {
        "id": "sQA7Cz3EHuBq"
      },
      "source": [
        "Save and commit your work"
      ]
    },
    {
      "cell_type": "code",
      "execution_count": 116,
      "metadata": {
        "id": "cPtEl_AMHuBq"
      },
      "outputs": [],
      "source": [
        "import jovian"
      ]
    },
    {
      "cell_type": "code",
      "execution_count": 117,
      "metadata": {
        "id": "HsGUEziKHuBq",
        "outputId": "c2dca397-8554-4f12-fe96-d0f8b6732ad2",
        "colab": {
          "base_uri": "https://localhost:8080/"
        }
      },
      "outputs": [
        {
          "output_type": "stream",
          "name": "stdout",
          "text": [
            "[jovian] Detected Colab notebook...\u001b[0m\n",
            "[jovian] jovian.commit() is no longer required on Google Colab. If you ran this notebook from Jovian, \n",
            "then just save this file in Colab using Ctrl+S/Cmd+S and it will be updated on Jovian. \n",
            "Also, you can also delete this cell, it's no longer necessary.\u001b[0m\n"
          ]
        }
      ],
      "source": [
        "jovian.commit()"
      ]
    },
    {
      "cell_type": "markdown",
      "metadata": {
        "id": "Ef-SVJbdHuBq"
      },
      "source": [
        "#### 71. Consider an array of dimension (5,5,3), how to mulitply it by an array with dimensions (5,5)? (★★★)"
      ]
    },
    {
      "cell_type": "code",
      "execution_count": 128,
      "metadata": {
        "id": "Ol4SAABXHuBq",
        "colab": {
          "base_uri": "https://localhost:8080/"
        },
        "outputId": "f88d12ef-90f0-4428-b7df-d975d0311470"
      },
      "outputs": [
        {
          "output_type": "stream",
          "name": "stdout",
          "text": [
            "[[[2. 2. 2.]\n",
            "  [2. 2. 2.]\n",
            "  [2. 2. 2.]\n",
            "  [2. 2. 2.]\n",
            "  [2. 2. 2.]]\n",
            "\n",
            " [[2. 2. 2.]\n",
            "  [2. 2. 2.]\n",
            "  [2. 2. 2.]\n",
            "  [2. 2. 2.]\n",
            "  [2. 2. 2.]]\n",
            "\n",
            " [[2. 2. 2.]\n",
            "  [2. 2. 2.]\n",
            "  [2. 2. 2.]\n",
            "  [2. 2. 2.]\n",
            "  [2. 2. 2.]]\n",
            "\n",
            " [[2. 2. 2.]\n",
            "  [2. 2. 2.]\n",
            "  [2. 2. 2.]\n",
            "  [2. 2. 2.]\n",
            "  [2. 2. 2.]]\n",
            "\n",
            " [[2. 2. 2.]\n",
            "  [2. 2. 2.]\n",
            "  [2. 2. 2.]\n",
            "  [2. 2. 2.]\n",
            "  [2. 2. 2.]]]\n"
          ]
        }
      ],
      "source": [
        "A = np.ones((5,5,3))\n",
        "B = 2*np.ones((5,5))\n",
        "print(A * B[:,:,None])"
      ]
    },
    {
      "cell_type": "markdown",
      "metadata": {
        "id": "D_ksjsxdHuBr"
      },
      "source": [
        "#### 72. How to swap two rows of an array? (★★★)"
      ]
    },
    {
      "cell_type": "code",
      "execution_count": 127,
      "metadata": {
        "id": "CRLQXxNWHuBr",
        "colab": {
          "base_uri": "https://localhost:8080/"
        },
        "outputId": "b4588da6-ca86-4bcb-8f8b-e18c2eb03c41"
      },
      "outputs": [
        {
          "output_type": "stream",
          "name": "stdout",
          "text": [
            "[[ 5  6  7  8  9]\n",
            " [ 0  1  2  3  4]\n",
            " [10 11 12 13 14]\n",
            " [15 16 17 18 19]\n",
            " [20 21 22 23 24]]\n"
          ]
        }
      ],
      "source": [
        "A = np.arange(25).reshape(5,5)\n",
        "A[[0,1]] = A[[1,0]]\n",
        "print(A)"
      ]
    },
    {
      "cell_type": "markdown",
      "metadata": {
        "id": "N6-Yp6SEHuBr"
      },
      "source": [
        "#### 73. Consider a set of 10 triplets describing 10 triangles (with shared vertices), find the set of unique line segments composing all the  triangles (★★★)"
      ]
    },
    {
      "cell_type": "code",
      "execution_count": 126,
      "metadata": {
        "id": "LBnc4bDBHuBr",
        "colab": {
          "base_uri": "https://localhost:8080/"
        },
        "outputId": "beb7222e-5ed6-4dab-98ef-e9087e1d2d05"
      },
      "outputs": [
        {
          "output_type": "stream",
          "name": "stdout",
          "text": [
            "[( 0, 87) ( 0, 90) ( 1, 36) ( 1, 91) ( 1, 95) ( 1, 97) ( 2, 15) ( 3, 23)\n",
            " ( 3, 99) ( 7, 50) ( 7, 57) ( 9, 33) ( 9, 71) (11, 16) (11, 55) (15, 15)\n",
            " (16, 55) (23, 99) (29, 33) (29, 75) (33, 71) (33, 75) (36, 91) (38, 43)\n",
            " (38, 57) (43, 57) (50, 57) (87, 90) (95, 97)]\n"
          ]
        }
      ],
      "source": [
        "A= np.random.randint(0,100,(10,3))\n",
        "F = np.roll(A.repeat(2,axis=1),-1,axis=1)\n",
        "F = F.reshape(len(F)*3,2)\n",
        "F = np.sort(F,axis=1)\n",
        "G = F.view( dtype=[('p0',F.dtype),('p1',F.dtype)] )\n",
        "G = np.unique(G)\n",
        "print(G)"
      ]
    },
    {
      "cell_type": "markdown",
      "metadata": {
        "id": "uiFhDdWDHuBr"
      },
      "source": [
        "#### 74. Given an array C that is a bincount, how to produce an array A such that np.bincount(A) == C? (★★★)"
      ]
    },
    {
      "cell_type": "code",
      "execution_count": 125,
      "metadata": {
        "id": "5aNmXVKyHuBr",
        "colab": {
          "base_uri": "https://localhost:8080/"
        },
        "outputId": "c7b23531-6e43-4a6b-cba1-2c1464e417cd"
      },
      "outputs": [
        {
          "output_type": "stream",
          "name": "stdout",
          "text": [
            "[1 1 2 3 4 4 6]\n"
          ]
        }
      ],
      "source": [
        "C = np.bincount([1,1,2,3,4,4,6])\n",
        "A = np.repeat(np.arange(len(C)), C)\n",
        "print(A)"
      ]
    },
    {
      "cell_type": "markdown",
      "metadata": {
        "id": "Fwak49hHHuBr"
      },
      "source": [
        "#### 75. How to compute averages using a sliding window over an array? (★★★)"
      ]
    },
    {
      "cell_type": "code",
      "execution_count": 124,
      "metadata": {
        "id": "UYxh9Jg1HuBr",
        "colab": {
          "base_uri": "https://localhost:8080/"
        },
        "outputId": "89a210a8-32e6-4d4f-aaba-c7c756ec3c98"
      },
      "outputs": [
        {
          "output_type": "stream",
          "name": "stdout",
          "text": [
            "[ 1.  2.  3.  4.  5.  6.  7.  8.  9. 10. 11. 12. 13. 14. 15. 16. 17. 18.]\n",
            "[ 1.  2.  3.  4.  5.  6.  7.  8.  9. 10. 11. 12. 13. 14. 15. 16. 17. 18.]\n"
          ]
        }
      ],
      "source": [
        "def moving_average(a, n=3) :\n",
        "    ret = np.cumsum(a, dtype=float)\n",
        "    ret[n:] = ret[n:] - ret[:-n]\n",
        "    return ret[n - 1:] / n\n",
        "Z = np.arange(20)\n",
        "print(moving_average(Z, n=3))\n",
        "from numpy.lib.stride_tricks import sliding_window_view\n",
        "\n",
        "Z = np.arange(20)\n",
        "print(sliding_window_view(Z, window_shape=3).mean(axis=-1))"
      ]
    },
    {
      "cell_type": "markdown",
      "metadata": {
        "id": "I_IkqkyzHuBr"
      },
      "source": [
        "#### 76. Consider a one-dimensional array Z, build a two-dimensional array whose first row is (Z[0],Z[1],Z[2]) and each subsequent row is  shifted by 1 (last row should be (Z[-3],Z[-2],Z[-1]) (★★★)"
      ]
    },
    {
      "cell_type": "code",
      "execution_count": 123,
      "metadata": {
        "id": "EQnXoSL3HuBr",
        "colab": {
          "base_uri": "https://localhost:8080/"
        },
        "outputId": "8480bf92-c86b-4680-f4d3-a6a0d216cd44"
      },
      "outputs": [
        {
          "output_type": "stream",
          "name": "stdout",
          "text": [
            "[[0 1 2]\n",
            " [1 2 3]\n",
            " [2 3 4]\n",
            " [3 4 5]\n",
            " [4 5 6]\n",
            " [5 6 7]\n",
            " [6 7 8]\n",
            " [7 8 9]]\n"
          ]
        }
      ],
      "source": [
        "from numpy.lib import stride_tricks\n",
        "\n",
        "def rolling(a, window):\n",
        "    shape = (a.size - window + 1, window)\n",
        "    strides = (a.strides[0], a.strides[0])\n",
        "    return stride_tricks.as_strided(a, shape=shape, strides=strides)\n",
        "Z = rolling(np.arange(10), 3)\n",
        "print(Z)"
      ]
    },
    {
      "cell_type": "markdown",
      "metadata": {
        "id": "XrniuVHBHuBr"
      },
      "source": [
        "#### 77. How to negate a boolean, or to change the sign of a float inplace? (★★★)"
      ]
    },
    {
      "cell_type": "code",
      "execution_count": 133,
      "metadata": {
        "id": "yrEAFtn7HuBr",
        "colab": {
          "base_uri": "https://localhost:8080/"
        },
        "outputId": "1aabd765-50c7-449f-dcfe-9bef8e0babb0"
      },
      "outputs": [
        {
          "output_type": "execute_result",
          "data": {
            "text/plain": [
              "array([ 0.16747041,  0.34427014, -0.29840573,  0.64101738, -0.7370028 ,\n",
              "       -0.00214854,  0.54604817,  0.36847497, -0.33632535, -0.25536869,\n",
              "       -0.15767332, -0.48332026,  0.4474093 ,  0.37062911, -0.00603704,\n",
              "        0.06454435, -0.69482488,  0.19333627,  0.16774532,  0.95211606,\n",
              "        0.54286143, -0.91620161,  0.33351656,  0.00890586,  0.41012314,\n",
              "        0.53134946,  0.06548723, -0.48105136,  0.80356046, -0.2026726 ,\n",
              "       -0.25011302,  0.33428308,  0.22156338, -0.12582338,  0.83718533,\n",
              "        0.43949922,  0.81740441, -0.29773539, -0.00889579, -0.44847895,\n",
              "       -0.40704232, -0.24241329, -0.65410699,  0.38046376, -0.90128121,\n",
              "        0.67317454,  0.81803977, -0.72770763, -0.90836337, -0.96350761,\n",
              "       -0.46861922,  0.78783581,  0.42008331,  0.23232647, -0.03075886,\n",
              "        0.52200458, -0.66520428, -0.67613422,  0.13938782,  0.77097684,\n",
              "       -0.31950442, -0.14869241, -0.25823233,  0.03981162, -0.14053668,\n",
              "       -0.8193499 ,  0.0021392 , -0.1124604 , -0.53433558,  0.45435405,\n",
              "       -0.32780645,  0.51908275,  0.07895054, -0.7786704 ,  0.14131902,\n",
              "       -0.98158918, -0.72990584, -0.06409355,  0.21452328,  0.21024416,\n",
              "       -0.20326236,  0.92482173,  0.46316318,  0.54866297,  0.00620034,\n",
              "       -0.11485658,  0.5978661 , -0.91019532,  0.38170809, -0.16116301,\n",
              "        0.99765444,  0.78036329,  0.94893729,  0.14861106,  0.17202258,\n",
              "        0.197008  , -0.21574535,  0.40590555, -0.62480319, -0.40704136])"
            ]
          },
          "metadata": {},
          "execution_count": 133
        }
      ],
      "source": [
        "A = np.random.randint(0,2,100)\n",
        "np.logical_not(A, out=A)\n",
        "\n",
        "A = np.random.uniform(-1.0,1.0,100)\n",
        "np.negative(A, out=A)"
      ]
    },
    {
      "cell_type": "markdown",
      "metadata": {
        "id": "7BtfWVBcHuBr"
      },
      "source": [
        "#### 78. Consider 2 sets of points P0,P1 describing lines (2d) and a point p, how to compute distance from p to each line i (P0[i],P1[i])? (★★★)"
      ]
    },
    {
      "cell_type": "code",
      "execution_count": 134,
      "metadata": {
        "id": "SlTY8_puHuBr",
        "colab": {
          "base_uri": "https://localhost:8080/"
        },
        "outputId": "6f077499-e53e-4471-f52b-a7a7a7104ad8"
      },
      "outputs": [
        {
          "output_type": "stream",
          "name": "stdout",
          "text": [
            "[ 7.86861362  3.11036287  0.1064311   7.29447105 12.53351976  0.58448174\n",
            "  2.06500381  7.13227939  2.64867404  7.90005493]\n"
          ]
        }
      ],
      "source": [
        "def distance(P0, P1, p):\n",
        "    T = P1 - P0\n",
        "    L = (T**2).sum(axis=1)\n",
        "    U = -((P0[:,0]-p[...,0])*T[:,0] + (P0[:,1]-p[...,1])*T[:,1]) / L\n",
        "    U = U.reshape(len(U),1)\n",
        "    D = P0 + U*T - p\n",
        "    return np.sqrt((D**2).sum(axis=1))\n",
        "\n",
        "P0 = np.random.uniform(-10,10,(10,2))\n",
        "P1 = np.random.uniform(-10,10,(10,2))\n",
        "p  = np.random.uniform(-10,10,( 1,2))\n",
        "print(distance(P0, P1, p))"
      ]
    },
    {
      "cell_type": "markdown",
      "metadata": {
        "id": "fvYT1hviHuBr"
      },
      "source": [
        "#### 79. Consider 2 sets of points P0,P1 describing lines (2d) and a set of points P, how to compute distance from each point j (P[j]) to each line i (P0[i],P1[i])? (★★★)"
      ]
    },
    {
      "cell_type": "code",
      "execution_count": 135,
      "metadata": {
        "id": "3nav_0tJHuBs",
        "colab": {
          "base_uri": "https://localhost:8080/"
        },
        "outputId": "3d7fd409-7ccf-4ede-c0ca-a13b9831c834"
      },
      "outputs": [
        {
          "output_type": "stream",
          "name": "stdout",
          "text": [
            "[[ 4.27951992 12.19737621  8.64360812  7.58550947  8.71360426  4.89709608\n",
            "  14.78447687  3.23873326 16.46004797  0.48827511]\n",
            " [ 5.1380003   2.06769627  5.79731094  7.14538385  1.77542349  4.01092529\n",
            "   1.35307252 15.93653471  7.83201971  0.11596769]\n",
            " [ 6.14155244  7.51494539  4.0596885   4.40131648 10.14860303  6.94586206\n",
            "  10.79880803  2.89386108 11.67339197  4.61677266]\n",
            " [ 1.74009562 12.89094253 10.51287869  6.73686827  6.21256882  2.34777907\n",
            "  14.56522271  5.55312293 17.45981777  1.72857806]\n",
            " [ 2.31165734  2.6675441   4.77290904  4.94983478  1.13929006  1.2325593\n",
            "   2.95985929 12.9162558   8.05153038  1.52873024]\n",
            " [10.61647893  4.90900387  0.2995937   4.6348323  14.42364018 11.49772365\n",
            "   9.8105178   0.73623807  8.56774654  9.35307917]\n",
            " [ 2.84248586  0.4382196   2.66105105  8.09181999  0.30582191  1.6256714\n",
            "   0.31534743 14.4531439   5.10346614  3.01473756]\n",
            " [ 6.44532969  0.7910979   1.27643651  1.55346723  9.81313813  7.53638544\n",
            "   4.22780927  4.76836023  5.10431706  8.86436837]\n",
            " [11.21031455  8.62761596  2.25093717  8.37246834 15.37937567 11.92699539\n",
            "  13.71707981  2.53466086 12.10290242  7.54424267]\n",
            " [ 9.90530847  5.46159304  0.49978007  4.72397845 13.75746752 10.76837321\n",
            "  10.1051143   0.20418031  9.19576014  8.51734708]]\n"
          ]
        }
      ],
      "source": [
        "P0 = np.random.uniform(-10, 10, (10,2))\n",
        "P1 = np.random.uniform(-10,10,(10,2))\n",
        "p = np.random.uniform(-10, 10, (10,2))\n",
        "print(np.array([distance(P0,P1,p_i) for p_i in p]))"
      ]
    },
    {
      "cell_type": "markdown",
      "metadata": {
        "id": "shvYyR8iHuBs"
      },
      "source": [
        "#### 80. Consider an arbitrary array, write a function that extract a subpart with a fixed shape and centered on a given element (pad with a `fill` value when necessary) (★★★)"
      ]
    },
    {
      "cell_type": "code",
      "execution_count": 140,
      "metadata": {
        "id": "WyLEzBqKHuBs",
        "colab": {
          "base_uri": "https://localhost:8080/"
        },
        "outputId": "591c573f-85f6-448f-e346-d519c7614de0"
      },
      "outputs": [
        {
          "output_type": "stream",
          "name": "stdout",
          "text": [
            "[[4 1 8 4 5 1 1 1 7 3]\n",
            " [6 2 0 5 9 3 8 5 1 1]\n",
            " [9 0 9 0 8 9 2 3 4 0]\n",
            " [7 5 2 0 5 4 2 3 8 1]\n",
            " [4 8 6 8 1 4 1 2 2 5]\n",
            " [0 8 8 8 1 1 1 6 6 0]\n",
            " [4 4 2 7 0 1 5 6 5 5]\n",
            " [4 3 5 9 3 5 7 4 2 9]\n",
            " [2 6 4 9 9 7 1 8 3 9]\n",
            " [4 1 0 2 7 2 0 0 6 9]]\n",
            "[[0 0 0 0 0]\n",
            " [0 4 1 8 4]\n",
            " [0 6 2 0 5]\n",
            " [0 9 0 9 0]\n",
            " [0 7 5 2 0]]\n"
          ]
        }
      ],
      "source": [
        "Z = np.random.randint(0,10,(10,10))\n",
        "shape = (5,5)\n",
        "fill  = 0\n",
        "position = (1,1)\n",
        "\n",
        "R = np.ones(shape, dtype=Z.dtype)*fill\n",
        "P  = np.array(list(position)).astype(int)\n",
        "Rs = np.array(list(R.shape)).astype(int)\n",
        "Zs = np.array(list(Z.shape)).astype(int)\n",
        "\n",
        "R_start = np.zeros((len(shape),)).astype(int)\n",
        "R_stop  = np.array(list(shape)).astype(int)\n",
        "Z_start = (P-Rs//2)\n",
        "Z_stop  = (P+Rs//2)+Rs%2\n",
        "\n",
        "R_start = (R_start - np.minimum(Z_start,0)).tolist()\n",
        "Z_start = (np.maximum(Z_start,0)).tolist()\n",
        "R_stop = np.maximum(R_start, (R_stop - np.maximum(Z_stop-Zs,0))).tolist()\n",
        "Z_stop = (np.minimum(Z_stop,Zs)).tolist()\n",
        "\n",
        "r = [slice(start,stop) for start,stop in zip(R_start,R_stop)]\n",
        "z = [slice(start,stop) for start,stop in zip(Z_start,Z_stop)]\n",
        "R[r[0], r[1]] = Z[z[0], z[1]]\n",
        "print(Z)\n",
        "print(R)"
      ]
    },
    {
      "cell_type": "markdown",
      "metadata": {
        "id": "jdJ6XCWsHuBs"
      },
      "source": [
        "Save and commit your work."
      ]
    },
    {
      "cell_type": "code",
      "execution_count": 141,
      "metadata": {
        "id": "3T0u_XKMHuBs"
      },
      "outputs": [],
      "source": [
        "import jovian"
      ]
    },
    {
      "cell_type": "code",
      "execution_count": 142,
      "metadata": {
        "id": "R16LNlobHuBs",
        "outputId": "112d3a62-fd92-4659-adc2-e7c65fa25615",
        "colab": {
          "base_uri": "https://localhost:8080/"
        }
      },
      "outputs": [
        {
          "output_type": "stream",
          "name": "stdout",
          "text": [
            "[jovian] Detected Colab notebook...\u001b[0m\n",
            "[jovian] jovian.commit() is no longer required on Google Colab. If you ran this notebook from Jovian, \n",
            "then just save this file in Colab using Ctrl+S/Cmd+S and it will be updated on Jovian. \n",
            "Also, you can also delete this cell, it's no longer necessary.\u001b[0m\n"
          ]
        }
      ],
      "source": [
        "jovian.commit()"
      ]
    },
    {
      "cell_type": "markdown",
      "metadata": {
        "id": "hMA3agPiHuBs"
      },
      "source": [
        "#### 81. Consider an array Z = [1,2,3,4,5,6,7,8,9,10,11,12,13,14], how to generate an array R = [[1,2,3,4], [2,3,4,5], [3,4,5,6], ..., [11,12,13,14]]? (★★★)"
      ]
    },
    {
      "cell_type": "code",
      "execution_count": 137,
      "metadata": {
        "id": "Tv69Q7rAHuBs",
        "colab": {
          "base_uri": "https://localhost:8080/"
        },
        "outputId": "4658f907-5177-4951-c40e-69907abc807b"
      },
      "outputs": [
        {
          "output_type": "stream",
          "name": "stdout",
          "text": [
            "[[ 1  2  3  4]\n",
            " [ 2  3  4  5]\n",
            " [ 3  4  5  6]\n",
            " [ 4  5  6  7]\n",
            " [ 5  6  7  8]\n",
            " [ 6  7  8  9]\n",
            " [ 7  8  9 10]\n",
            " [ 8  9 10 11]\n",
            " [ 9 10 11 12]\n",
            " [10 11 12 13]\n",
            " [11 12 13 14]]\n",
            "[[ 1  2  3  4]\n",
            " [ 2  3  4  5]\n",
            " [ 3  4  5  6]\n",
            " [ 4  5  6  7]\n",
            " [ 5  6  7  8]\n",
            " [ 6  7  8  9]\n",
            " [ 7  8  9 10]\n",
            " [ 8  9 10 11]\n",
            " [ 9 10 11 12]\n",
            " [10 11 12 13]\n",
            " [11 12 13 14]]\n"
          ]
        }
      ],
      "source": [
        "Z = np.arange(1,15,dtype=np.uint32)\n",
        "R = stride_tricks.as_strided(Z,(11,4),(4,4))\n",
        "print(R)\n",
        "\n",
        "# Author: Jeff Luo (@Jeff1999)\n",
        "\n",
        "Z = np.arange(1, 15, dtype=np.uint32)\n",
        "print(sliding_window_view(Z, window_shape=4))"
      ]
    },
    {
      "cell_type": "markdown",
      "metadata": {
        "id": "uJVCTaDqHuBs"
      },
      "source": [
        "#### 82. Compute a matrix rank (★★★)"
      ]
    },
    {
      "cell_type": "code",
      "execution_count": 143,
      "metadata": {
        "id": "w1jDt_BNHuBs",
        "colab": {
          "base_uri": "https://localhost:8080/"
        },
        "outputId": "c132a10b-a48d-4896-cbc8-e534fb535d5d"
      },
      "outputs": [
        {
          "output_type": "stream",
          "name": "stdout",
          "text": [
            "10\n",
            "10\n"
          ]
        }
      ],
      "source": [
        "Z = np.random.uniform(0,1,(10,10))\n",
        "U, S, V = np.linalg.svd(Z)\n",
        "rank = np.sum(S > 1e-10)\n",
        "print(rank)\n",
        "\n",
        "\n",
        "rank = np.linalg.matrix_rank(Z)\n",
        "print(rank)"
      ]
    },
    {
      "cell_type": "markdown",
      "metadata": {
        "id": "4T3pQZfPHuBs"
      },
      "source": [
        "#### 83. How to find the most frequent value in an array?"
      ]
    },
    {
      "cell_type": "code",
      "execution_count": 144,
      "metadata": {
        "id": "XHybdjKkHuBs",
        "colab": {
          "base_uri": "https://localhost:8080/"
        },
        "outputId": "0ad3aea8-242c-4bf0-bd81-7d0cbc22bd25"
      },
      "outputs": [
        {
          "output_type": "stream",
          "name": "stdout",
          "text": [
            "3\n"
          ]
        }
      ],
      "source": [
        "A = np.random.randint(0,10,50)\n",
        "print(np.bincount(A).argmax())"
      ]
    },
    {
      "cell_type": "markdown",
      "metadata": {
        "id": "ESMwzRAgHuBs"
      },
      "source": [
        "#### 84. Extract all the contiguous 3x3 blocks from a random 10x10 matrix (★★★)"
      ]
    },
    {
      "cell_type": "code",
      "execution_count": 145,
      "metadata": {
        "id": "rqMnHONPHuBs",
        "colab": {
          "base_uri": "https://localhost:8080/"
        },
        "outputId": "33483444-a98f-48a3-fcc0-1648f538ff0a"
      },
      "outputs": [
        {
          "output_type": "stream",
          "name": "stdout",
          "text": [
            "[[[[0 4 0]\n",
            "   [4 3 0]\n",
            "   [4 1 3]]\n",
            "\n",
            "  [[4 0 1]\n",
            "   [3 0 0]\n",
            "   [1 3 0]]\n",
            "\n",
            "  [[0 1 2]\n",
            "   [0 0 0]\n",
            "   [3 0 1]]\n",
            "\n",
            "  [[1 2 2]\n",
            "   [0 0 3]\n",
            "   [0 1 4]]\n",
            "\n",
            "  [[2 2 3]\n",
            "   [0 3 3]\n",
            "   [1 4 1]]\n",
            "\n",
            "  [[2 3 3]\n",
            "   [3 3 3]\n",
            "   [4 1 3]]\n",
            "\n",
            "  [[3 3 0]\n",
            "   [3 3 0]\n",
            "   [1 3 2]]\n",
            "\n",
            "  [[3 0 0]\n",
            "   [3 0 4]\n",
            "   [3 2 3]]]\n",
            "\n",
            "\n",
            " [[[4 3 0]\n",
            "   [4 1 3]\n",
            "   [3 2 3]]\n",
            "\n",
            "  [[3 0 0]\n",
            "   [1 3 0]\n",
            "   [2 3 2]]\n",
            "\n",
            "  [[0 0 0]\n",
            "   [3 0 1]\n",
            "   [3 2 4]]\n",
            "\n",
            "  [[0 0 3]\n",
            "   [0 1 4]\n",
            "   [2 4 1]]\n",
            "\n",
            "  [[0 3 3]\n",
            "   [1 4 1]\n",
            "   [4 1 3]]\n",
            "\n",
            "  [[3 3 3]\n",
            "   [4 1 3]\n",
            "   [1 3 4]]\n",
            "\n",
            "  [[3 3 0]\n",
            "   [1 3 2]\n",
            "   [3 4 3]]\n",
            "\n",
            "  [[3 0 4]\n",
            "   [3 2 3]\n",
            "   [4 3 3]]]\n",
            "\n",
            "\n",
            " [[[4 1 3]\n",
            "   [3 2 3]\n",
            "   [3 0 2]]\n",
            "\n",
            "  [[1 3 0]\n",
            "   [2 3 2]\n",
            "   [0 2 2]]\n",
            "\n",
            "  [[3 0 1]\n",
            "   [3 2 4]\n",
            "   [2 2 0]]\n",
            "\n",
            "  [[0 1 4]\n",
            "   [2 4 1]\n",
            "   [2 0 4]]\n",
            "\n",
            "  [[1 4 1]\n",
            "   [4 1 3]\n",
            "   [0 4 4]]\n",
            "\n",
            "  [[4 1 3]\n",
            "   [1 3 4]\n",
            "   [4 4 0]]\n",
            "\n",
            "  [[1 3 2]\n",
            "   [3 4 3]\n",
            "   [4 0 3]]\n",
            "\n",
            "  [[3 2 3]\n",
            "   [4 3 3]\n",
            "   [0 3 3]]]\n",
            "\n",
            "\n",
            " [[[3 2 3]\n",
            "   [3 0 2]\n",
            "   [2 2 0]]\n",
            "\n",
            "  [[2 3 2]\n",
            "   [0 2 2]\n",
            "   [2 0 4]]\n",
            "\n",
            "  [[3 2 4]\n",
            "   [2 2 0]\n",
            "   [0 4 1]]\n",
            "\n",
            "  [[2 4 1]\n",
            "   [2 0 4]\n",
            "   [4 1 2]]\n",
            "\n",
            "  [[4 1 3]\n",
            "   [0 4 4]\n",
            "   [1 2 1]]\n",
            "\n",
            "  [[1 3 4]\n",
            "   [4 4 0]\n",
            "   [2 1 1]]\n",
            "\n",
            "  [[3 4 3]\n",
            "   [4 0 3]\n",
            "   [1 1 3]]\n",
            "\n",
            "  [[4 3 3]\n",
            "   [0 3 3]\n",
            "   [1 3 1]]]\n",
            "\n",
            "\n",
            " [[[3 0 2]\n",
            "   [2 2 0]\n",
            "   [0 2 4]]\n",
            "\n",
            "  [[0 2 2]\n",
            "   [2 0 4]\n",
            "   [2 4 4]]\n",
            "\n",
            "  [[2 2 0]\n",
            "   [0 4 1]\n",
            "   [4 4 2]]\n",
            "\n",
            "  [[2 0 4]\n",
            "   [4 1 2]\n",
            "   [4 2 2]]\n",
            "\n",
            "  [[0 4 4]\n",
            "   [1 2 1]\n",
            "   [2 2 3]]\n",
            "\n",
            "  [[4 4 0]\n",
            "   [2 1 1]\n",
            "   [2 3 0]]\n",
            "\n",
            "  [[4 0 3]\n",
            "   [1 1 3]\n",
            "   [3 0 1]]\n",
            "\n",
            "  [[0 3 3]\n",
            "   [1 3 1]\n",
            "   [0 1 1]]]\n",
            "\n",
            "\n",
            " [[[2 2 0]\n",
            "   [0 2 4]\n",
            "   [3 1 2]]\n",
            "\n",
            "  [[2 0 4]\n",
            "   [2 4 4]\n",
            "   [1 2 1]]\n",
            "\n",
            "  [[0 4 1]\n",
            "   [4 4 2]\n",
            "   [2 1 3]]\n",
            "\n",
            "  [[4 1 2]\n",
            "   [4 2 2]\n",
            "   [1 3 3]]\n",
            "\n",
            "  [[1 2 1]\n",
            "   [2 2 3]\n",
            "   [3 3 0]]\n",
            "\n",
            "  [[2 1 1]\n",
            "   [2 3 0]\n",
            "   [3 0 3]]\n",
            "\n",
            "  [[1 1 3]\n",
            "   [3 0 1]\n",
            "   [0 3 3]]\n",
            "\n",
            "  [[1 3 1]\n",
            "   [0 1 1]\n",
            "   [3 3 1]]]\n",
            "\n",
            "\n",
            " [[[0 2 4]\n",
            "   [3 1 2]\n",
            "   [4 3 4]]\n",
            "\n",
            "  [[2 4 4]\n",
            "   [1 2 1]\n",
            "   [3 4 4]]\n",
            "\n",
            "  [[4 4 2]\n",
            "   [2 1 3]\n",
            "   [4 4 0]]\n",
            "\n",
            "  [[4 2 2]\n",
            "   [1 3 3]\n",
            "   [4 0 3]]\n",
            "\n",
            "  [[2 2 3]\n",
            "   [3 3 0]\n",
            "   [0 3 1]]\n",
            "\n",
            "  [[2 3 0]\n",
            "   [3 0 3]\n",
            "   [3 1 2]]\n",
            "\n",
            "  [[3 0 1]\n",
            "   [0 3 3]\n",
            "   [1 2 0]]\n",
            "\n",
            "  [[0 1 1]\n",
            "   [3 3 1]\n",
            "   [2 0 0]]]\n",
            "\n",
            "\n",
            " [[[3 1 2]\n",
            "   [4 3 4]\n",
            "   [0 4 2]]\n",
            "\n",
            "  [[1 2 1]\n",
            "   [3 4 4]\n",
            "   [4 2 2]]\n",
            "\n",
            "  [[2 1 3]\n",
            "   [4 4 0]\n",
            "   [2 2 3]]\n",
            "\n",
            "  [[1 3 3]\n",
            "   [4 0 3]\n",
            "   [2 3 3]]\n",
            "\n",
            "  [[3 3 0]\n",
            "   [0 3 1]\n",
            "   [3 3 4]]\n",
            "\n",
            "  [[3 0 3]\n",
            "   [3 1 2]\n",
            "   [3 4 4]]\n",
            "\n",
            "  [[0 3 3]\n",
            "   [1 2 0]\n",
            "   [4 4 1]]\n",
            "\n",
            "  [[3 3 1]\n",
            "   [2 0 0]\n",
            "   [4 1 2]]]]\n",
            "[[[[2 2 1]\n",
            "   [3 0 1]\n",
            "   [2 0 4]]\n",
            "\n",
            "  [[2 1 4]\n",
            "   [0 1 3]\n",
            "   [0 4 0]]\n",
            "\n",
            "  [[1 4 1]\n",
            "   [1 3 4]\n",
            "   [4 0 2]]\n",
            "\n",
            "  [[4 1 3]\n",
            "   [3 4 1]\n",
            "   [0 2 4]]\n",
            "\n",
            "  [[1 3 4]\n",
            "   [4 1 0]\n",
            "   [2 4 2]]\n",
            "\n",
            "  [[3 4 3]\n",
            "   [1 0 3]\n",
            "   [4 2 3]]\n",
            "\n",
            "  [[4 3 2]\n",
            "   [0 3 4]\n",
            "   [2 3 3]]\n",
            "\n",
            "  [[3 2 3]\n",
            "   [3 4 4]\n",
            "   [3 3 4]]]\n",
            "\n",
            "\n",
            " [[[3 0 1]\n",
            "   [2 0 4]\n",
            "   [4 0 1]]\n",
            "\n",
            "  [[0 1 3]\n",
            "   [0 4 0]\n",
            "   [0 1 1]]\n",
            "\n",
            "  [[1 3 4]\n",
            "   [4 0 2]\n",
            "   [1 1 3]]\n",
            "\n",
            "  [[3 4 1]\n",
            "   [0 2 4]\n",
            "   [1 3 0]]\n",
            "\n",
            "  [[4 1 0]\n",
            "   [2 4 2]\n",
            "   [3 0 0]]\n",
            "\n",
            "  [[1 0 3]\n",
            "   [4 2 3]\n",
            "   [0 0 3]]\n",
            "\n",
            "  [[0 3 4]\n",
            "   [2 3 3]\n",
            "   [0 3 3]]\n",
            "\n",
            "  [[3 4 4]\n",
            "   [3 3 4]\n",
            "   [3 3 4]]]\n",
            "\n",
            "\n",
            " [[[2 0 4]\n",
            "   [4 0 1]\n",
            "   [3 4 1]]\n",
            "\n",
            "  [[0 4 0]\n",
            "   [0 1 1]\n",
            "   [4 1 0]]\n",
            "\n",
            "  [[4 0 2]\n",
            "   [1 1 3]\n",
            "   [1 0 1]]\n",
            "\n",
            "  [[0 2 4]\n",
            "   [1 3 0]\n",
            "   [0 1 4]]\n",
            "\n",
            "  [[2 4 2]\n",
            "   [3 0 0]\n",
            "   [1 4 1]]\n",
            "\n",
            "  [[4 2 3]\n",
            "   [0 0 3]\n",
            "   [4 1 2]]\n",
            "\n",
            "  [[2 3 3]\n",
            "   [0 3 3]\n",
            "   [1 2 2]]\n",
            "\n",
            "  [[3 3 4]\n",
            "   [3 3 4]\n",
            "   [2 2 0]]]\n",
            "\n",
            "\n",
            " [[[4 0 1]\n",
            "   [3 4 1]\n",
            "   [4 4 1]]\n",
            "\n",
            "  [[0 1 1]\n",
            "   [4 1 0]\n",
            "   [4 1 1]]\n",
            "\n",
            "  [[1 1 3]\n",
            "   [1 0 1]\n",
            "   [1 1 3]]\n",
            "\n",
            "  [[1 3 0]\n",
            "   [0 1 4]\n",
            "   [1 3 0]]\n",
            "\n",
            "  [[3 0 0]\n",
            "   [1 4 1]\n",
            "   [3 0 4]]\n",
            "\n",
            "  [[0 0 3]\n",
            "   [4 1 2]\n",
            "   [0 4 0]]\n",
            "\n",
            "  [[0 3 3]\n",
            "   [1 2 2]\n",
            "   [4 0 0]]\n",
            "\n",
            "  [[3 3 4]\n",
            "   [2 2 0]\n",
            "   [0 0 3]]]\n",
            "\n",
            "\n",
            " [[[3 4 1]\n",
            "   [4 4 1]\n",
            "   [0 3 0]]\n",
            "\n",
            "  [[4 1 0]\n",
            "   [4 1 1]\n",
            "   [3 0 3]]\n",
            "\n",
            "  [[1 0 1]\n",
            "   [1 1 3]\n",
            "   [0 3 2]]\n",
            "\n",
            "  [[0 1 4]\n",
            "   [1 3 0]\n",
            "   [3 2 0]]\n",
            "\n",
            "  [[1 4 1]\n",
            "   [3 0 4]\n",
            "   [2 0 3]]\n",
            "\n",
            "  [[4 1 2]\n",
            "   [0 4 0]\n",
            "   [0 3 2]]\n",
            "\n",
            "  [[1 2 2]\n",
            "   [4 0 0]\n",
            "   [3 2 2]]\n",
            "\n",
            "  [[2 2 0]\n",
            "   [0 0 3]\n",
            "   [2 2 3]]]\n",
            "\n",
            "\n",
            " [[[4 4 1]\n",
            "   [0 3 0]\n",
            "   [0 1 2]]\n",
            "\n",
            "  [[4 1 1]\n",
            "   [3 0 3]\n",
            "   [1 2 3]]\n",
            "\n",
            "  [[1 1 3]\n",
            "   [0 3 2]\n",
            "   [2 3 1]]\n",
            "\n",
            "  [[1 3 0]\n",
            "   [3 2 0]\n",
            "   [3 1 0]]\n",
            "\n",
            "  [[3 0 4]\n",
            "   [2 0 3]\n",
            "   [1 0 4]]\n",
            "\n",
            "  [[0 4 0]\n",
            "   [0 3 2]\n",
            "   [0 4 2]]\n",
            "\n",
            "  [[4 0 0]\n",
            "   [3 2 2]\n",
            "   [4 2 1]]\n",
            "\n",
            "  [[0 0 3]\n",
            "   [2 2 3]\n",
            "   [2 1 0]]]\n",
            "\n",
            "\n",
            " [[[0 3 0]\n",
            "   [0 1 2]\n",
            "   [4 3 3]]\n",
            "\n",
            "  [[3 0 3]\n",
            "   [1 2 3]\n",
            "   [3 3 0]]\n",
            "\n",
            "  [[0 3 2]\n",
            "   [2 3 1]\n",
            "   [3 0 1]]\n",
            "\n",
            "  [[3 2 0]\n",
            "   [3 1 0]\n",
            "   [0 1 2]]\n",
            "\n",
            "  [[2 0 3]\n",
            "   [1 0 4]\n",
            "   [1 2 1]]\n",
            "\n",
            "  [[0 3 2]\n",
            "   [0 4 2]\n",
            "   [2 1 4]]\n",
            "\n",
            "  [[3 2 2]\n",
            "   [4 2 1]\n",
            "   [1 4 2]]\n",
            "\n",
            "  [[2 2 3]\n",
            "   [2 1 0]\n",
            "   [4 2 3]]]\n",
            "\n",
            "\n",
            " [[[0 1 2]\n",
            "   [4 3 3]\n",
            "   [0 1 1]]\n",
            "\n",
            "  [[1 2 3]\n",
            "   [3 3 0]\n",
            "   [1 1 3]]\n",
            "\n",
            "  [[2 3 1]\n",
            "   [3 0 1]\n",
            "   [1 3 0]]\n",
            "\n",
            "  [[3 1 0]\n",
            "   [0 1 2]\n",
            "   [3 0 2]]\n",
            "\n",
            "  [[1 0 4]\n",
            "   [1 2 1]\n",
            "   [0 2 0]]\n",
            "\n",
            "  [[0 4 2]\n",
            "   [2 1 4]\n",
            "   [2 0 1]]\n",
            "\n",
            "  [[4 2 1]\n",
            "   [1 4 2]\n",
            "   [0 1 4]]\n",
            "\n",
            "  [[2 1 0]\n",
            "   [4 2 3]\n",
            "   [1 4 1]]]]\n"
          ]
        }
      ],
      "source": [
        "Z = np.random.randint(0,5,(10,10))\n",
        "n = 3\n",
        "i = 1 + (Z.shape[0]-3)\n",
        "j = 1 + (Z.shape[1]-3)\n",
        "C = stride_tricks.as_strided(Z, shape=(i, j, n, n), strides=Z.strides + Z.strides)\n",
        "print(C)\n",
        "\n",
        "Z = np.random.randint(0,5,(10,10))\n",
        "print(sliding_window_view(Z, window_shape=(3, 3)))"
      ]
    },
    {
      "cell_type": "markdown",
      "metadata": {
        "id": "qlEFSLtBHuBs"
      },
      "source": [
        "#### 85. Create a 2D array subclass such that Z[i,j] == Z[j,i] (★★★)"
      ]
    },
    {
      "cell_type": "code",
      "execution_count": 146,
      "metadata": {
        "id": "hoLAgbFHHuBs",
        "colab": {
          "base_uri": "https://localhost:8080/"
        },
        "outputId": "f9221489-ed34-4cec-a130-5b198216d0e6"
      },
      "outputs": [
        {
          "output_type": "stream",
          "name": "stdout",
          "text": [
            "[[ 3 10 14  9 10]\n",
            " [10  3 12  8  4]\n",
            " [14 12  2 42 10]\n",
            " [ 9  8 42  0 11]\n",
            " [10  4 10 11  0]]\n"
          ]
        }
      ],
      "source": [
        "class Symetric(np.ndarray):\n",
        "    def __setitem__(self, index, value):\n",
        "        i,j = index\n",
        "        super(Symetric, self).__setitem__((i,j), value)\n",
        "        super(Symetric, self).__setitem__((j,i), value)\n",
        "\n",
        "def symetric(Z):# only works for 2d array,setting using indices\n",
        "    return np.asarray(Z + Z.T - np.diag(Z.diagonal())).view(Symetric)\n",
        "\n",
        "S = symetric(np.random.randint(0,10,(5,5)))\n",
        "S[2,3] = 42\n",
        "print(S)"
      ]
    },
    {
      "cell_type": "markdown",
      "metadata": {
        "id": "He7Ond7gHuBs"
      },
      "source": [
        "#### 86. Consider a set of p matrices wich shape (n,n) and a set of p vectors with shape (n,1). How to compute the sum of of the p matrix products at once? (result has shape (n,1)) (★★★)"
      ]
    },
    {
      "cell_type": "code",
      "execution_count": 147,
      "metadata": {
        "id": "DUPwYajlHuBs",
        "colab": {
          "base_uri": "https://localhost:8080/"
        },
        "outputId": "dff2c66e-f65f-4106-fed8-410ac3587cd0"
      },
      "outputs": [
        {
          "output_type": "stream",
          "name": "stdout",
          "text": [
            "[[200.]\n",
            " [200.]\n",
            " [200.]\n",
            " [200.]\n",
            " [200.]\n",
            " [200.]\n",
            " [200.]\n",
            " [200.]\n",
            " [200.]\n",
            " [200.]\n",
            " [200.]\n",
            " [200.]\n",
            " [200.]\n",
            " [200.]\n",
            " [200.]\n",
            " [200.]\n",
            " [200.]\n",
            " [200.]\n",
            " [200.]\n",
            " [200.]]\n"
          ]
        }
      ],
      "source": [
        "p, n = 10, 20\n",
        "M = np.ones((p,n,n))\n",
        "V = np.ones((p,n,1))\n",
        "S = np.tensordot(M, V, axes=[[0, 2], [0, 1]])\n",
        "print(S)"
      ]
    },
    {
      "cell_type": "markdown",
      "metadata": {
        "id": "mBHCqIMAHuBt"
      },
      "source": [
        "#### 87. Consider a 16x16 array, how to get the block-sum (block size is 4x4)? (★★★)"
      ]
    },
    {
      "cell_type": "code",
      "execution_count": 148,
      "metadata": {
        "id": "S0nUONAZHuBt",
        "colab": {
          "base_uri": "https://localhost:8080/"
        },
        "outputId": "d2c4c6b8-8c92-46dd-be66-96126e8e3842"
      },
      "outputs": [
        {
          "output_type": "stream",
          "name": "stdout",
          "text": [
            "[[16. 16. 16. 16.]\n",
            " [16. 16. 16. 16.]\n",
            " [16. 16. 16. 16.]\n",
            " [16. 16. 16. 16.]]\n",
            "[[16. 16. 16. 16.]\n",
            " [16. 16. 16. 16.]\n",
            " [16. 16. 16. 16.]\n",
            " [16. 16. 16. 16.]]\n"
          ]
        }
      ],
      "source": [
        "Z = np.ones((16,16))\n",
        "k = 4\n",
        "S = np.add.reduceat(np.add.reduceat(Z, np.arange(0, Z.shape[0], k), axis=0),\n",
        "                                       np.arange(0, Z.shape[1], k), axis=1)\n",
        "print(S)\n",
        "\n",
        "\n",
        "Z = np.ones((16,16))\n",
        "k = 4\n",
        "\n",
        "windows = np.lib.stride_tricks.sliding_window_view(Z, (k, k))\n",
        "S = windows[::k, ::k, ...].sum(axis=(-2, -1))\n",
        "\n",
        "\n",
        "Z = np.ones((16, 16))\n",
        "k = 4\n",
        "print(sliding_window_view(Z, window_shape=(k, k))[::k, ::k].sum(axis=(-2, -1)))"
      ]
    },
    {
      "cell_type": "markdown",
      "metadata": {
        "id": "ZaaLmP-iHuBt"
      },
      "source": [
        "#### 88. How to implement the Game of Life using numpy arrays? (★★★)"
      ]
    },
    {
      "cell_type": "code",
      "execution_count": 149,
      "metadata": {
        "id": "H02NRfVjHuBt",
        "colab": {
          "base_uri": "https://localhost:8080/"
        },
        "outputId": "4f67a5c1-4ac5-4ad1-80ab-bbbd4cce4ccd"
      },
      "outputs": [
        {
          "output_type": "stream",
          "name": "stdout",
          "text": [
            "[[0 0 0 0 0 0 0 0 0 0 0 0 0 0 0 0 0 0 0 0 0 0 0 0 0 0 0 0 0 0 0 0 0 0 0 0\n",
            "  0 0 0 0 0 0 0 0 0 0 0 0 0 0]\n",
            " [0 0 0 0 0 0 0 0 0 0 0 0 0 0 0 0 0 0 0 0 0 0 0 0 0 0 0 0 0 0 0 0 0 0 1 0\n",
            "  0 0 0 0 0 0 0 0 0 0 0 0 0 0]\n",
            " [0 0 0 0 0 0 0 0 0 0 0 0 0 0 0 0 0 0 0 0 0 0 0 0 0 0 0 0 0 0 0 0 0 1 0 1\n",
            "  0 0 0 0 0 1 1 1 0 0 0 0 0 0]\n",
            " [0 0 0 0 0 0 0 0 0 0 0 0 0 0 0 0 0 0 0 0 0 0 0 0 0 0 0 0 0 0 0 0 0 0 0 0\n",
            "  0 0 0 0 0 0 0 0 0 0 0 0 0 0]\n",
            " [0 0 0 0 0 0 0 0 0 0 0 0 0 0 1 1 0 0 0 0 0 0 0 0 0 0 0 0 0 0 0 0 0 0 0 0\n",
            "  0 0 0 0 0 0 0 0 0 0 0 1 1 0]\n",
            " [0 0 0 0 0 0 0 0 0 0 0 0 0 0 1 1 1 0 0 0 0 0 0 0 0 0 0 1 1 0 0 0 0 0 0 0\n",
            "  0 0 0 0 0 0 0 0 0 0 0 1 1 0]\n",
            " [0 0 0 0 0 0 0 0 0 0 0 0 0 1 0 0 1 1 0 0 0 0 0 0 0 0 1 0 0 1 0 0 0 1 1 0\n",
            "  0 0 0 0 0 0 0 0 0 0 0 0 0 0]\n",
            " [0 0 0 0 0 0 0 0 0 0 0 0 0 0 0 0 0 1 1 0 0 0 0 0 0 0 1 0 0 0 0 0 1 0 0 1\n",
            "  0 0 0 0 0 0 0 0 0 0 0 0 0 0]\n",
            " [0 0 0 0 0 0 0 0 0 0 0 0 0 1 1 0 0 0 0 0 0 0 0 0 0 0 0 0 0 0 0 0 1 0 0 1\n",
            "  0 0 0 0 0 0 0 0 0 0 0 1 0 0]\n",
            " [0 0 0 0 0 0 0 0 0 0 0 0 0 0 0 0 0 0 0 0 0 0 0 0 0 0 0 1 0 1 0 0 0 1 0 0\n",
            "  0 0 0 0 0 0 0 0 0 0 1 0 1 0]\n",
            " [0 0 0 0 0 0 0 0 0 1 1 0 0 0 0 0 0 0 0 1 0 0 0 0 0 0 0 0 0 0 0 0 0 0 0 0\n",
            "  0 0 0 0 0 0 0 0 0 0 0 1 1 0]\n",
            " [0 0 0 0 0 0 0 0 0 0 1 1 0 0 0 0 0 0 1 0 0 1 0 0 0 0 0 0 0 0 0 0 0 0 0 0\n",
            "  0 0 0 0 0 0 0 0 0 0 0 0 0 0]\n",
            " [0 0 0 0 1 0 0 0 0 1 1 0 0 1 0 0 0 0 1 0 0 0 0 0 0 0 0 0 0 0 0 0 0 0 0 0\n",
            "  0 0 0 0 0 0 0 0 0 0 0 0 0 0]\n",
            " [0 0 0 0 1 0 0 0 0 0 0 0 1 1 1 0 0 0 1 0 0 0 1 0 0 0 0 0 0 0 0 0 0 0 0 0\n",
            "  0 0 0 0 0 0 0 0 0 0 0 0 0 0]\n",
            " [0 0 0 0 1 0 0 0 1 0 1 1 0 0 1 0 0 0 1 0 0 0 1 0 0 0 0 0 0 0 0 0 0 0 0 0\n",
            "  0 0 0 0 0 0 0 0 0 0 0 0 0 0]\n",
            " [0 0 0 0 0 0 0 0 0 0 0 0 1 1 0 1 1 0 1 0 0 0 0 0 0 0 0 0 0 0 0 0 0 0 0 0\n",
            "  0 0 0 0 0 0 0 0 0 0 0 0 0 0]\n",
            " [0 0 0 0 0 0 0 1 0 0 0 0 0 1 1 0 0 0 1 0 1 1 0 0 0 0 0 0 0 0 0 0 0 0 0 0\n",
            "  0 0 0 0 0 0 0 0 0 0 0 0 0 0]\n",
            " [0 0 0 0 0 0 0 0 1 0 1 0 1 1 1 1 1 0 1 0 1 0 0 0 0 0 0 0 0 0 0 0 0 0 0 0\n",
            "  0 0 0 0 0 0 0 0 0 0 0 0 0 0]\n",
            " [0 0 0 0 0 0 0 0 0 1 0 0 0 0 0 0 1 0 0 1 0 0 0 0 0 0 0 0 0 0 0 0 0 0 0 0\n",
            "  0 0 0 0 0 0 0 0 0 0 0 0 0 0]\n",
            " [0 0 0 0 0 0 0 0 0 0 0 0 0 0 0 0 1 1 1 0 0 0 0 0 0 0 0 0 0 0 0 0 0 0 0 0\n",
            "  0 0 0 0 0 0 0 0 0 0 0 0 0 0]\n",
            " [0 0 0 0 0 0 0 0 0 0 0 0 0 0 0 0 0 0 0 0 0 0 0 0 0 0 0 0 0 0 0 0 0 0 0 0\n",
            "  0 0 0 0 0 0 0 0 0 0 0 0 0 0]\n",
            " [0 0 0 0 0 0 0 0 0 0 0 0 0 0 1 0 0 0 0 0 0 0 0 0 0 0 0 0 0 0 0 0 0 0 0 0\n",
            "  0 0 0 0 0 0 0 0 0 0 0 0 0 0]\n",
            " [0 0 0 0 0 0 0 0 0 0 0 0 0 0 1 0 0 0 0 0 0 0 0 0 0 0 0 0 0 0 0 0 0 0 0 0\n",
            "  0 0 0 0 0 0 0 0 0 0 0 0 0 0]\n",
            " [0 0 0 0 0 0 0 0 0 0 0 0 0 0 1 0 0 0 0 0 0 0 0 0 0 0 0 0 0 0 0 0 0 0 0 0\n",
            "  0 0 0 0 0 0 0 0 0 0 0 0 0 0]\n",
            " [0 0 0 0 0 0 0 0 0 0 0 0 0 0 0 0 0 1 1 1 0 0 0 0 0 0 0 0 0 0 0 0 0 0 0 0\n",
            "  0 0 0 0 0 0 0 0 0 0 0 0 0 0]\n",
            " [0 0 0 0 0 0 0 0 0 0 0 0 0 1 1 1 1 1 1 1 1 1 1 1 0 0 0 0 0 0 0 0 0 0 0 0\n",
            "  0 0 0 0 0 0 0 1 1 0 0 0 0 0]\n",
            " [0 0 0 0 0 0 0 0 0 0 0 0 1 0 0 0 0 0 0 0 0 0 0 1 0 0 0 0 0 0 0 0 0 0 0 0\n",
            "  0 0 0 0 0 0 0 1 1 0 0 0 0 0]\n",
            " [0 0 0 0 0 0 0 0 0 0 0 0 0 0 0 0 0 1 0 0 0 0 0 1 0 0 0 0 0 0 0 0 0 0 0 0\n",
            "  0 0 0 0 0 0 0 0 0 0 0 0 0 0]\n",
            " [0 0 0 0 0 0 0 0 0 0 1 0 0 0 0 1 0 0 0 0 0 0 1 0 0 0 1 1 0 0 0 0 0 0 0 0\n",
            "  0 0 0 0 0 0 0 1 1 0 0 0 0 0]\n",
            " [0 0 0 0 0 0 0 0 0 1 0 0 0 0 0 1 0 0 0 0 0 0 0 0 0 0 1 1 0 0 0 0 0 0 0 0\n",
            "  0 0 0 0 0 0 1 0 0 1 0 0 0 0]\n",
            " [0 0 0 0 0 0 0 0 0 0 0 0 1 1 0 0 1 0 0 0 0 0 0 0 0 0 1 1 0 0 0 0 0 0 0 0\n",
            "  0 0 0 0 0 0 0 1 1 0 0 0 0 0]\n",
            " [0 0 0 0 0 0 0 0 0 0 0 0 0 0 1 0 0 1 0 1 0 0 0 0 1 0 1 0 0 0 1 1 0 0 0 0\n",
            "  0 0 0 0 0 0 0 0 0 0 0 0 0 0]\n",
            " [0 0 0 0 0 0 0 0 0 1 1 1 0 1 0 0 0 0 1 0 1 0 1 1 0 0 0 1 0 0 0 1 0 0 0 0\n",
            "  1 0 0 0 0 0 0 0 0 0 0 0 0 0]\n",
            " [0 0 0 0 0 0 0 0 0 0 0 0 0 1 0 0 0 1 1 1 0 0 0 0 0 0 0 0 0 1 1 0 0 0 0 1\n",
            "  1 0 0 0 0 0 0 0 0 0 0 0 0 0]\n",
            " [0 0 0 0 0 0 0 0 0 0 0 0 0 0 0 0 0 0 1 0 1 0 1 0 0 0 0 0 0 1 0 0 0 0 0 1\n",
            "  0 1 0 0 0 0 0 0 0 0 0 0 0 0]\n",
            " [0 0 0 0 0 0 1 0 0 0 0 0 0 0 0 0 0 0 0 1 1 0 0 1 0 0 1 0 0 0 0 0 0 0 0 0\n",
            "  0 0 0 0 0 0 0 0 0 0 0 0 0 0]\n",
            " [0 0 0 0 1 1 0 1 1 0 0 0 0 0 0 0 0 0 0 0 1 1 0 0 0 1 0 0 0 0 1 0 0 0 0 0\n",
            "  0 0 0 0 0 0 0 0 0 0 0 0 0 0]\n",
            " [0 0 0 0 0 0 0 0 0 0 0 0 0 0 0 0 0 0 0 0 0 1 0 0 0 1 0 0 0 0 1 0 0 0 0 0\n",
            "  0 0 0 0 0 0 0 0 0 0 0 0 0 0]\n",
            " [0 0 0 0 1 1 0 1 0 1 0 0 0 0 0 0 0 0 0 0 0 0 0 0 0 0 0 0 0 0 1 0 0 0 0 0\n",
            "  0 0 0 0 0 0 0 0 0 0 0 0 0 0]\n",
            " [0 0 0 1 1 0 0 0 0 1 0 0 0 0 0 0 0 0 0 0 0 0 0 0 1 1 0 0 0 1 0 0 0 0 0 0\n",
            "  0 1 1 0 1 0 1 0 0 0 0 0 0 0]\n",
            " [0 0 1 1 0 0 0 0 1 1 0 0 0 0 0 0 0 0 0 0 0 0 0 0 0 0 1 1 1 0 0 0 1 0 0 0\n",
            "  0 1 1 0 1 0 1 0 0 0 0 0 0 0]\n",
            " [0 0 1 0 0 0 0 0 0 0 0 0 0 0 0 0 0 0 0 0 0 0 0 0 0 0 0 0 0 0 0 1 0 1 0 0\n",
            "  0 0 0 1 1 0 0 1 0 0 0 0 0 0]\n",
            " [0 0 0 1 0 0 0 0 0 0 0 0 0 0 0 0 0 0 0 0 1 1 1 0 0 0 0 0 0 0 0 1 0 1 0 0\n",
            "  0 1 1 0 0 0 1 1 1 0 0 0 0 0]\n",
            " [0 0 0 0 0 0 0 0 0 0 0 0 0 0 0 0 0 0 0 0 0 0 0 1 1 0 0 0 0 0 0 0 1 0 0 0\n",
            "  0 1 0 1 0 0 0 0 0 0 0 0 0 0]\n",
            " [0 0 0 0 0 0 0 0 0 0 0 0 0 0 0 0 0 0 0 1 0 0 0 1 1 0 0 0 0 0 0 0 0 0 0 0\n",
            "  0 0 0 0 0 0 0 0 0 0 0 0 0 0]\n",
            " [0 0 1 0 0 0 0 0 0 0 0 0 0 0 0 0 0 0 0 0 1 0 1 0 1 0 0 0 0 0 0 0 0 0 0 0\n",
            "  0 0 0 0 0 0 0 0 0 0 0 0 0 0]\n",
            " [0 1 0 1 0 0 0 0 0 0 0 0 0 0 0 0 0 0 1 1 0 0 0 0 0 0 0 0 0 0 0 0 0 0 1 1\n",
            "  0 0 0 0 0 0 0 0 0 0 0 1 1 0]\n",
            " [0 1 0 1 0 0 0 0 0 0 0 0 0 0 0 0 0 0 1 1 0 0 0 0 0 0 0 0 0 0 0 0 0 0 1 1\n",
            "  0 0 0 0 0 0 0 0 0 0 0 1 1 0]\n",
            " [0 0 1 0 0 0 0 0 0 0 0 0 0 0 0 0 0 0 0 0 0 0 0 0 0 0 0 0 0 0 0 0 0 0 0 0\n",
            "  0 0 0 0 0 0 0 0 0 0 0 0 0 0]\n",
            " [0 0 0 0 0 0 0 0 0 0 0 0 0 0 0 0 0 0 0 0 0 0 0 0 0 0 0 0 0 0 0 0 0 0 0 0\n",
            "  0 0 0 0 0 0 0 0 0 0 0 0 0 0]]\n"
          ]
        }
      ],
      "source": [
        "def iterate(Z):\n",
        "    N = (Z[0:-2,0:-2] + Z[0:-2,1:-1] + Z[0:-2,2:] +\n",
        "         Z[1:-1,0:-2]                + Z[1:-1,2:] +\n",
        "         Z[2:  ,0:-2] + Z[2:  ,1:-1] + Z[2:  ,2:])\n",
        "    birth = (N==3) & (Z[1:-1,1:-1]==0)\n",
        "    survive = ((N==2) | (N==3)) & (Z[1:-1,1:-1]==1)\n",
        "    Z[...] = 0\n",
        "    Z[1:-1,1:-1][birth | survive] = 1\n",
        "    return Z\n",
        "\n",
        "Z = np.random.randint(0,2,(50,50))\n",
        "for i in range(100): Z = iterate(Z)\n",
        "print(Z)"
      ]
    },
    {
      "cell_type": "markdown",
      "metadata": {
        "id": "GioutlH3HuBt"
      },
      "source": [
        "#### 89. How to get the n largest values of an array (★★★)"
      ]
    },
    {
      "cell_type": "code",
      "execution_count": 150,
      "metadata": {
        "id": "qzLj57aXHuBt",
        "colab": {
          "base_uri": "https://localhost:8080/"
        },
        "outputId": "9f63c507-ef35-4e96-c0b8-da1c22b90eb4"
      },
      "outputs": [
        {
          "output_type": "stream",
          "name": "stdout",
          "text": [
            "[9995 9996 9997 9998 9999]\n",
            "[9999 9998 9997 9996 9995]\n"
          ]
        }
      ],
      "source": [
        "Z = np.arange(10000)\n",
        "np.random.shuffle(Z)\n",
        "n = 5\n",
        "\n",
        "print (Z[np.argsort(Z)[-n:]])\n",
        "\n",
        "print (Z[np.argpartition(-Z,n)[:n]])"
      ]
    },
    {
      "cell_type": "markdown",
      "metadata": {
        "id": "PjG3X_SJHuBt"
      },
      "source": [
        "#### 90. Given an arbitrary number of vectors, build the cartesian product (every combinations of every item) (★★★)"
      ]
    },
    {
      "cell_type": "code",
      "execution_count": 151,
      "metadata": {
        "id": "1sxM4PwZHuBt",
        "colab": {
          "base_uri": "https://localhost:8080/"
        },
        "outputId": "652cef6e-0f65-43cf-ce7e-0629926ff6dd"
      },
      "outputs": [
        {
          "output_type": "stream",
          "name": "stdout",
          "text": [
            "[[1 4 6]\n",
            " [1 4 7]\n",
            " [1 5 6]\n",
            " [1 5 7]\n",
            " [2 4 6]\n",
            " [2 4 7]\n",
            " [2 5 6]\n",
            " [2 5 7]\n",
            " [3 4 6]\n",
            " [3 4 7]\n",
            " [3 5 6]\n",
            " [3 5 7]]\n"
          ]
        }
      ],
      "source": [
        "def cartesian(arrays):\n",
        "    arrays = [np.asarray(a) for a in arrays]\n",
        "    shape = (len(x) for x in arrays)\n",
        "\n",
        "    ix = np.indices(shape, dtype=int)\n",
        "    ix = ix.reshape(len(arrays), -1).T\n",
        "\n",
        "    for n, arr in enumerate(arrays):\n",
        "        ix[:, n] = arrays[n][ix[:, n]]\n",
        "\n",
        "    return ix\n",
        "\n",
        "print (cartesian(([1, 2, 3], [4, 5], [6, 7])))"
      ]
    },
    {
      "cell_type": "markdown",
      "metadata": {
        "id": "t9gg4sPYHuBt"
      },
      "source": [
        "Save and commit your work"
      ]
    },
    {
      "cell_type": "code",
      "execution_count": 152,
      "metadata": {
        "id": "LfPtHV8MHuBt"
      },
      "outputs": [],
      "source": [
        "import jovian"
      ]
    },
    {
      "cell_type": "code",
      "execution_count": 153,
      "metadata": {
        "id": "qPf8kovrHuBt",
        "outputId": "ef736c5c-74fb-49d9-dd38-8d6512dd377b",
        "colab": {
          "base_uri": "https://localhost:8080/"
        }
      },
      "outputs": [
        {
          "output_type": "stream",
          "name": "stdout",
          "text": [
            "[jovian] Detected Colab notebook...\u001b[0m\n",
            "[jovian] jovian.commit() is no longer required on Google Colab. If you ran this notebook from Jovian, \n",
            "then just save this file in Colab using Ctrl+S/Cmd+S and it will be updated on Jovian. \n",
            "Also, you can also delete this cell, it's no longer necessary.\u001b[0m\n"
          ]
        }
      ],
      "source": [
        "jovian.commit()"
      ]
    },
    {
      "cell_type": "markdown",
      "metadata": {
        "id": "dBEh32oPHuBt"
      },
      "source": [
        "#### 91. How to create a record array from a regular array? (★★★)"
      ]
    },
    {
      "cell_type": "code",
      "execution_count": 154,
      "metadata": {
        "id": "osa1ZeqZHuBt",
        "colab": {
          "base_uri": "https://localhost:8080/"
        },
        "outputId": "e9d5d34d-923c-46af-c3b0-750f66d1ed28"
      },
      "outputs": [
        {
          "output_type": "stream",
          "name": "stdout",
          "text": [
            "[(b'Hello', 2.5, 3) (b'World', 3.6, 2)]\n"
          ]
        }
      ],
      "source": [
        "Z = np.array([(\"Hello\", 2.5, 3),\n",
        "              (\"World\", 3.6, 2)])\n",
        "R = np.core.records.fromarrays(Z.T,\n",
        "                               names='col1, col2, col3',\n",
        "                               formats = 'S8, f8, i8')\n",
        "print(R)"
      ]
    },
    {
      "cell_type": "markdown",
      "metadata": {
        "id": "NsGAjqeDHuBt"
      },
      "source": [
        "#### 92. Consider a large vector Z, compute Z to the power of 3 using 3 different methods (★★★)"
      ]
    },
    {
      "cell_type": "code",
      "execution_count": 155,
      "metadata": {
        "id": "D1nJkYKXHuBt",
        "colab": {
          "base_uri": "https://localhost:8080/"
        },
        "outputId": "8647ef8d-cd9c-4b20-b13e-a383f0656eec"
      },
      "outputs": [
        {
          "output_type": "stream",
          "name": "stdout",
          "text": [
            "1.45 s ± 196 ms per loop (mean ± std. dev. of 7 runs, 1 loop each)\n",
            "200 ms ± 2.84 ms per loop (mean ± std. dev. of 7 runs, 1 loop each)\n",
            "226 ms ± 47.9 ms per loop (mean ± std. dev. of 7 runs, 10 loops each)\n"
          ]
        }
      ],
      "source": [
        "x = np.random.rand(int(5e7))\n",
        "\n",
        "%timeit np.power(x,3)\n",
        "%timeit x*x*x\n",
        "%timeit np.einsum('i,i,i->i',x,x,x)"
      ]
    },
    {
      "cell_type": "markdown",
      "metadata": {
        "id": "e5OsQ0rxHuBt"
      },
      "source": [
        "#### 93. Consider two arrays A and B of shape (8,3) and (2,2). How to find rows of A that contain elements of each row of B regardless of the order of the elements in B? (★★★)"
      ]
    },
    {
      "cell_type": "code",
      "execution_count": 156,
      "metadata": {
        "id": "cHGCwAjEHuBt",
        "colab": {
          "base_uri": "https://localhost:8080/"
        },
        "outputId": "c31f0423-12b1-452e-aaf6-f3920df9025f"
      },
      "outputs": [
        {
          "output_type": "stream",
          "name": "stdout",
          "text": [
            "[1 2 4 5 7]\n"
          ]
        }
      ],
      "source": [
        "A = np.random.randint(0,5,(8,3))\n",
        "B = np.random.randint(0,5,(2,2))\n",
        "\n",
        "C = (A[..., np.newaxis, np.newaxis] == B)\n",
        "rows = np.where(C.any((3,1)).all(1))[0]\n",
        "print(rows)"
      ]
    },
    {
      "cell_type": "markdown",
      "metadata": {
        "id": "U2a1khxxHuBt"
      },
      "source": [
        "#### 94. Considering a 10x3 matrix, extract rows with unequal values (e.g. [2,2,3]) (★★★)"
      ]
    },
    {
      "cell_type": "code",
      "execution_count": 157,
      "metadata": {
        "id": "Kzk2b_SUHuBt",
        "colab": {
          "base_uri": "https://localhost:8080/"
        },
        "outputId": "834789e8-80d7-4f30-bfba-184e8faadcc6"
      },
      "outputs": [
        {
          "output_type": "stream",
          "name": "stdout",
          "text": [
            "[[1 0 0]\n",
            " [3 1 2]\n",
            " [0 1 2]\n",
            " [4 1 2]\n",
            " [0 1 4]\n",
            " [2 1 1]\n",
            " [4 2 0]\n",
            " [2 2 2]\n",
            " [3 2 2]\n",
            " [3 4 4]]\n",
            "[[1 0 0]\n",
            " [3 1 2]\n",
            " [0 1 2]\n",
            " [4 1 2]\n",
            " [0 1 4]\n",
            " [2 1 1]\n",
            " [4 2 0]\n",
            " [3 2 2]\n",
            " [3 4 4]]\n",
            "[[1 0 0]\n",
            " [3 1 2]\n",
            " [0 1 2]\n",
            " [4 1 2]\n",
            " [0 1 4]\n",
            " [2 1 1]\n",
            " [4 2 0]\n",
            " [3 2 2]\n",
            " [3 4 4]]\n"
          ]
        }
      ],
      "source": [
        "Z = np.random.randint(0,5,(10,3))\n",
        "print(Z)\n",
        "\n",
        "E = np.all(Z[:,1:] == Z[:,:-1], axis=1)\n",
        "U = Z[~E]\n",
        "print(U)\n",
        "\n",
        "U = Z[Z.max(axis=1) != Z.min(axis=1),:]\n",
        "print(U)"
      ]
    },
    {
      "cell_type": "markdown",
      "metadata": {
        "id": "f3ConWGhHuBt"
      },
      "source": [
        "#### 95. Convert a vector of ints into a matrix binary representation (★★★)"
      ]
    },
    {
      "cell_type": "code",
      "execution_count": 158,
      "metadata": {
        "id": "AIPfDK6WHuBt",
        "colab": {
          "base_uri": "https://localhost:8080/"
        },
        "outputId": "0a1cefc2-a775-4735-fda3-38124a794f3b"
      },
      "outputs": [
        {
          "output_type": "stream",
          "name": "stdout",
          "text": [
            "[[0 0 0 0 0 0 0 0]\n",
            " [0 0 0 0 0 0 0 1]\n",
            " [0 0 0 0 0 0 1 0]\n",
            " [0 0 0 0 0 0 1 1]\n",
            " [0 0 0 0 1 1 1 1]\n",
            " [0 0 0 1 0 0 0 0]\n",
            " [0 0 1 0 0 0 0 0]\n",
            " [0 1 0 0 0 0 0 0]\n",
            " [1 0 0 0 0 0 0 0]]\n",
            "[[0 0 0 0 0 0 0 0]\n",
            " [0 0 0 0 0 0 0 1]\n",
            " [0 0 0 0 0 0 1 0]\n",
            " [0 0 0 0 0 0 1 1]\n",
            " [0 0 0 0 1 1 1 1]\n",
            " [0 0 0 1 0 0 0 0]\n",
            " [0 0 1 0 0 0 0 0]\n",
            " [0 1 0 0 0 0 0 0]\n",
            " [1 0 0 0 0 0 0 0]]\n"
          ]
        }
      ],
      "source": [
        "I = np.array([0, 1, 2, 3, 15, 16, 32, 64, 128])\n",
        "B = ((I.reshape(-1,1) & (2**np.arange(8))) != 0).astype(int)\n",
        "print(B[:,::-1])\n",
        "\n",
        "\n",
        "I = np.array([0, 1, 2, 3, 15, 16, 32, 64, 128], dtype=np.uint8)\n",
        "print(np.unpackbits(I[:, np.newaxis], axis=1))"
      ]
    },
    {
      "cell_type": "markdown",
      "metadata": {
        "id": "aOSKtr4HHuBt"
      },
      "source": [
        "#### 96. Given a two dimensional array, how to extract unique rows? (★★★)"
      ]
    },
    {
      "cell_type": "code",
      "execution_count": 159,
      "metadata": {
        "id": "d4Mv69mUHuBt",
        "colab": {
          "base_uri": "https://localhost:8080/"
        },
        "outputId": "657c8207-0f9d-4122-cd00-b7f5332befa7"
      },
      "outputs": [
        {
          "output_type": "stream",
          "name": "stdout",
          "text": [
            "[[0 0 1]\n",
            " [0 1 1]\n",
            " [1 0 0]\n",
            " [1 1 1]]\n",
            "[[0 0 1]\n",
            " [0 1 1]\n",
            " [1 0 0]\n",
            " [1 1 1]]\n"
          ]
        }
      ],
      "source": [
        "Z = np.random.randint(0,2,(6,3))\n",
        "T = np.ascontiguousarray(Z).view(np.dtype((np.void, Z.dtype.itemsize * Z.shape[1])))\n",
        "_, idx = np.unique(T, return_index=True)\n",
        "uZ = Z[idx]\n",
        "print(uZ)\n",
        "\n",
        "uZ = np.unique(Z, axis=0)\n",
        "print(uZ)"
      ]
    },
    {
      "cell_type": "markdown",
      "metadata": {
        "id": "P5TvmXeLHuBt"
      },
      "source": [
        "#### 97. Considering 2 vectors A & B, write the einsum equivalent of inner, outer, sum, and mul function (★★★)"
      ]
    },
    {
      "cell_type": "code",
      "execution_count": 160,
      "metadata": {
        "id": "3-KQTsu-HuBt",
        "colab": {
          "base_uri": "https://localhost:8080/"
        },
        "outputId": "18f61699-528c-4520-f64d-a2312f027016"
      },
      "outputs": [
        {
          "output_type": "execute_result",
          "data": {
            "text/plain": [
              "array([[0.40895139, 0.41634231, 0.6151962 , 0.237019  , 0.53620443,\n",
              "        0.16009064, 0.54004316, 0.24154626, 0.29137555, 0.44534522],\n",
              "       [0.13227849, 0.13466915, 0.19898997, 0.07666563, 0.17343947,\n",
              "        0.05178256, 0.17468114, 0.07813001, 0.09424768, 0.14405036],\n",
              "       [0.40687131, 0.41422464, 0.61206708, 0.23581344, 0.53347709,\n",
              "        0.15927636, 0.5372963 , 0.24031766, 0.2898935 , 0.44308003],\n",
              "       [0.30426933, 0.30976835, 0.45772026, 0.17634764, 0.39894855,\n",
              "        0.11911115, 0.40180465, 0.17971603, 0.21679018, 0.33134719],\n",
              "       [0.54700921, 0.55689523, 0.82288016, 0.3170342 , 0.71722158,\n",
              "        0.21413561, 0.72235622, 0.32308981, 0.38974097, 0.59568923],\n",
              "       [0.46482245, 0.47322313, 0.69924449, 0.26940061, 0.60946084,\n",
              "        0.18196227, 0.61382402, 0.27454638, 0.33118337, 0.50618842],\n",
              "       [0.27409394, 0.2790476 , 0.41232663, 0.15885866, 0.3593835 ,\n",
              "        0.10729851, 0.36195636, 0.16189299, 0.19529038, 0.29848639],\n",
              "       [0.08163438, 0.08310975, 0.12280472, 0.04731345, 0.10703648,\n",
              "        0.0319571 , 0.10780276, 0.04821717, 0.05816403, 0.08889927],\n",
              "       [0.51157716, 0.52082283, 0.76957882, 0.29649859, 0.67076418,\n",
              "        0.20026516, 0.67556623, 0.30216195, 0.36449583, 0.55710398],\n",
              "       [0.50204065, 0.51111396, 0.75523279, 0.29097144, 0.65826019,\n",
              "        0.19653194, 0.66297273, 0.29652923, 0.35770112, 0.54671877]])"
            ]
          },
          "metadata": {},
          "execution_count": 160
        }
      ],
      "source": [
        "A = np.random.uniform(0,1,10)\n",
        "B = np.random.uniform(0,1,10)\n",
        "\n",
        "np.einsum('i->', A)\n",
        "np.einsum('i,i->i', A, B)\n",
        "np.einsum('i,i', A, B)\n",
        "np.einsum('i,j->ij', A, B)"
      ]
    },
    {
      "cell_type": "markdown",
      "metadata": {
        "id": "Qodl-L1_HuBt"
      },
      "source": [
        "#### 98. Considering a path described by two vectors (X,Y), how to sample it using equidistant samples (★★★)?"
      ]
    },
    {
      "cell_type": "code",
      "execution_count": 161,
      "metadata": {
        "id": "Ow8xUozjHuBt"
      },
      "outputs": [],
      "source": [
        "phi = np.arange(0, 10*np.pi, 0.1)\n",
        "a = 1\n",
        "x = a*phi*np.cos(phi)\n",
        "y = a*phi*np.sin(phi)\n",
        "\n",
        "dr = (np.diff(x)**2 + np.diff(y)**2)**.5\n",
        "r = np.zeros_like(x)\n",
        "r[1:] = np.cumsum(dr)\n",
        "r_int = np.linspace(0, r.max(), 200)\n",
        "x_int = np.interp(r_int, r, x)\n",
        "y_int = np.interp(r_int, r, y)"
      ]
    },
    {
      "cell_type": "markdown",
      "metadata": {
        "id": "JhttRvFDHuBt"
      },
      "source": [
        "#### 99. Given an integer n and a 2D array X, select from X the rows which can be interpreted as draws from a multinomial distribution with n degrees, i.e., the rows which only contain integers and which sum to n. (★★★)"
      ]
    },
    {
      "cell_type": "code",
      "execution_count": 162,
      "metadata": {
        "id": "Qm-ZzyJ5HuBu",
        "colab": {
          "base_uri": "https://localhost:8080/"
        },
        "outputId": "56f756b2-0ef2-41d5-ef6a-ae7c31f0ff3e"
      },
      "outputs": [
        {
          "output_type": "stream",
          "name": "stdout",
          "text": [
            "[[2. 0. 1. 1.]]\n"
          ]
        }
      ],
      "source": [
        "X = np.asarray([[1.0, 0.0, 3.0, 8.0],\n",
        "                [2.0, 0.0, 1.0, 1.0],\n",
        "                [1.5, 2.5, 1.0, 0.0]])\n",
        "n = 4\n",
        "M = np.logical_and.reduce(np.mod(X, 1) == 0, axis=-1)\n",
        "M &= (X.sum(axis=-1) == n)\n",
        "print(X[M])"
      ]
    },
    {
      "cell_type": "markdown",
      "metadata": {
        "id": "Cdtf0LcIHuBu"
      },
      "source": [
        "#### 100. Compute bootstrapped 95% confidence intervals for the mean of a 1D array X (i.e., resample the elements of an array with replacement N times, compute the mean of each sample, and then compute percentiles over the means). (★★★)"
      ]
    },
    {
      "cell_type": "code",
      "execution_count": 164,
      "metadata": {
        "id": "F05TLAJUHuBu",
        "colab": {
          "base_uri": "https://localhost:8080/"
        },
        "outputId": "a384bb58-1bf1-42de-f9ab-d93e736a7a6e"
      },
      "outputs": [
        {
          "output_type": "stream",
          "name": "stdout",
          "text": [
            "[-0.270901    0.12762298]\n"
          ]
        }
      ],
      "source": [
        "X = np.random.randn(100)\n",
        "N = 1000\n",
        "idx = np.random.randint(0, X.size, (N, X.size))\n",
        "means = X[idx].mean(axis=1)\n",
        "confint = np.percentile(means, [2.5, 97.5])\n",
        "print(confint)"
      ]
    },
    {
      "cell_type": "markdown",
      "metadata": {
        "id": "YMyqo7EJHuBu"
      },
      "source": [
        "Save and commit your work"
      ]
    },
    {
      "cell_type": "code",
      "execution_count": 165,
      "metadata": {
        "id": "D0m05Vj_HuBu"
      },
      "outputs": [],
      "source": [
        "import jovian"
      ]
    },
    {
      "cell_type": "code",
      "execution_count": 166,
      "metadata": {
        "id": "7kdKHrRUHuBu",
        "outputId": "e9d36b1b-48db-4a45-b1d9-399b8a5d948a",
        "colab": {
          "base_uri": "https://localhost:8080/"
        }
      },
      "outputs": [
        {
          "output_type": "stream",
          "name": "stdout",
          "text": [
            "[jovian] Detected Colab notebook...\u001b[0m\n",
            "[jovian] jovian.commit() is no longer required on Google Colab. If you ran this notebook from Jovian, \n",
            "then just save this file in Colab using Ctrl+S/Cmd+S and it will be updated on Jovian. \n",
            "Also, you can also delete this cell, it's no longer necessary.\u001b[0m\n"
          ]
        }
      ],
      "source": [
        "jovian.commit()"
      ]
    },
    {
      "cell_type": "markdown",
      "metadata": {
        "id": "jlyEXWG0HuBu"
      },
      "source": [
        "Congratulations on completing the 100 exercises, well done!\n",
        "\n",
        "#### What to do next?\n",
        "\n",
        "- Share your completed notebook on Facebook, LinkedIn or Twitter and challenge your friends.\n",
        "- Share your solutions and help others on the forum: https://jovian.ml/forum/t/100-numpy-exercises-hints-discussions-help/10561\n",
        "- Check out our course on \"Data Analysis with Python: Zero to Pandas\" - https://jovian.ml/learn/data-analysis-with-python-zero-to-pandas\n",
        "- Star this repository to show your appreciation for the original author of this notebook: https://github.com/rougier/numpy-100"
      ]
    }
  ],
  "metadata": {
    "kernelspec": {
      "display_name": "Python 3",
      "language": "python",
      "name": "python3"
    },
    "language_info": {
      "codemirror_mode": {
        "name": "ipython",
        "version": 3
      },
      "file_extension": ".py",
      "mimetype": "text/x-python",
      "name": "python",
      "nbconvert_exporter": "python",
      "pygments_lexer": "ipython3",
      "version": "3.8.5"
    },
    "colab": {
      "provenance": [],
      "include_colab_link": true
    }
  },
  "nbformat": 4,
  "nbformat_minor": 0
}